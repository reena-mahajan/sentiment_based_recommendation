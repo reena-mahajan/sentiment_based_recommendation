{
 "cells": [
  {
   "cell_type": "code",
   "execution_count": 1,
   "id": "6daed4f5-eedd-4bc1-a26f-b8f9c976ee66",
   "metadata": {},
   "outputs": [
    {
     "name": "stderr",
     "output_type": "stream",
     "text": [
      "/opt/conda/lib/python3.8/site-packages/xgboost/compat.py:36: FutureWarning: pandas.Int64Index is deprecated and will be removed from pandas in a future version. Use pandas.Index with the appropriate dtype instead.\n",
      "  from pandas import MultiIndex, Int64Index\n"
     ]
    }
   ],
   "source": [
    "# Importing required libraries\n",
    "\n",
    "import pandas as pd\n",
    "import numpy as np\n",
    "import seaborn as sns\n",
    "import matplotlib.pyplot as plt\n",
    "import nltk\n",
    "from nltk.corpus import wordnet\n",
    "import string\n",
    "from nltk import pos_tag\n",
    "from nltk.corpus import stopwords\n",
    "from nltk import word_tokenize\n",
    "from nltk.tokenize import WhitespaceTokenizer\n",
    "from nltk.stem import WordNetLemmatizer\n",
    "from wordcloud import WordCloud\n",
    "\n",
    "from sklearn.model_selection import train_test_split\n",
    "from sklearn.linear_model import LogisticRegression\n",
    "from sklearn.ensemble import RandomForestClassifier\n",
    "from xgboost import XGBClassifier\n",
    "\n",
    "from sklearn.metrics import accuracy_score\n",
    "from sklearn.metrics import recall_score\n",
    "from sklearn.metrics import precision_score\n",
    "from sklearn.metrics import f1_score\n",
    "from sklearn.metrics import confusion_matrix, classification_report"
   ]
  },
  {
   "cell_type": "code",
   "execution_count": 3,
   "id": "63565427-a57e-4269-9d02-78e01993fa48",
   "metadata": {},
   "outputs": [],
   "source": [
    "reviews_dataset=pd.read_csv('sample30.csv')"
   ]
  },
  {
   "cell_type": "code",
   "execution_count": 4,
   "id": "a278811c-7b5c-4b68-b258-7c3ec85be011",
   "metadata": {},
   "outputs": [
    {
     "data": {
      "text/html": [
       "<div>\n",
       "<style scoped>\n",
       "    .dataframe tbody tr th:only-of-type {\n",
       "        vertical-align: middle;\n",
       "    }\n",
       "\n",
       "    .dataframe tbody tr th {\n",
       "        vertical-align: top;\n",
       "    }\n",
       "\n",
       "    .dataframe thead th {\n",
       "        text-align: right;\n",
       "    }\n",
       "</style>\n",
       "<table border=\"1\" class=\"dataframe\">\n",
       "  <thead>\n",
       "    <tr style=\"text-align: right;\">\n",
       "      <th></th>\n",
       "      <th>id</th>\n",
       "      <th>brand</th>\n",
       "      <th>categories</th>\n",
       "      <th>manufacturer</th>\n",
       "      <th>name</th>\n",
       "      <th>reviews_date</th>\n",
       "      <th>reviews_didPurchase</th>\n",
       "      <th>reviews_doRecommend</th>\n",
       "      <th>reviews_rating</th>\n",
       "      <th>reviews_text</th>\n",
       "      <th>reviews_title</th>\n",
       "      <th>reviews_userCity</th>\n",
       "      <th>reviews_userProvince</th>\n",
       "      <th>reviews_username</th>\n",
       "      <th>user_sentiment</th>\n",
       "    </tr>\n",
       "  </thead>\n",
       "  <tbody>\n",
       "    <tr>\n",
       "      <th>0</th>\n",
       "      <td>AV13O1A8GV-KLJ3akUyj</td>\n",
       "      <td>Universal Music</td>\n",
       "      <td>Movies, Music &amp; Books,Music,R&amp;b,Movies &amp; TV,Mo...</td>\n",
       "      <td>Universal Music Group / Cash Money</td>\n",
       "      <td>Pink Friday: Roman Reloaded Re-Up (w/dvd)</td>\n",
       "      <td>2012-11-30T06:21:45.000Z</td>\n",
       "      <td>NaN</td>\n",
       "      <td>NaN</td>\n",
       "      <td>5</td>\n",
       "      <td>i love this album. it's very good. more to the...</td>\n",
       "      <td>Just Awesome</td>\n",
       "      <td>Los Angeles</td>\n",
       "      <td>NaN</td>\n",
       "      <td>joshua</td>\n",
       "      <td>Positive</td>\n",
       "    </tr>\n",
       "    <tr>\n",
       "      <th>1</th>\n",
       "      <td>AV14LG0R-jtxr-f38QfS</td>\n",
       "      <td>Lundberg</td>\n",
       "      <td>Food,Packaged Foods,Snacks,Crackers,Snacks, Co...</td>\n",
       "      <td>Lundberg</td>\n",
       "      <td>Lundberg Organic Cinnamon Toast Rice Cakes</td>\n",
       "      <td>2017-07-09T00:00:00.000Z</td>\n",
       "      <td>True</td>\n",
       "      <td>NaN</td>\n",
       "      <td>5</td>\n",
       "      <td>Good flavor. This review was collected as part...</td>\n",
       "      <td>Good</td>\n",
       "      <td>NaN</td>\n",
       "      <td>NaN</td>\n",
       "      <td>dorothy w</td>\n",
       "      <td>Positive</td>\n",
       "    </tr>\n",
       "    <tr>\n",
       "      <th>2</th>\n",
       "      <td>AV14LG0R-jtxr-f38QfS</td>\n",
       "      <td>Lundberg</td>\n",
       "      <td>Food,Packaged Foods,Snacks,Crackers,Snacks, Co...</td>\n",
       "      <td>Lundberg</td>\n",
       "      <td>Lundberg Organic Cinnamon Toast Rice Cakes</td>\n",
       "      <td>2017-07-09T00:00:00.000Z</td>\n",
       "      <td>True</td>\n",
       "      <td>NaN</td>\n",
       "      <td>5</td>\n",
       "      <td>Good flavor.</td>\n",
       "      <td>Good</td>\n",
       "      <td>NaN</td>\n",
       "      <td>NaN</td>\n",
       "      <td>dorothy w</td>\n",
       "      <td>Positive</td>\n",
       "    </tr>\n",
       "    <tr>\n",
       "      <th>3</th>\n",
       "      <td>AV16khLE-jtxr-f38VFn</td>\n",
       "      <td>K-Y</td>\n",
       "      <td>Personal Care,Medicine Cabinet,Lubricant/Sperm...</td>\n",
       "      <td>K-Y</td>\n",
       "      <td>K-Y Love Sensuality Pleasure Gel</td>\n",
       "      <td>2016-01-06T00:00:00.000Z</td>\n",
       "      <td>False</td>\n",
       "      <td>False</td>\n",
       "      <td>1</td>\n",
       "      <td>I read through the reviews on here before look...</td>\n",
       "      <td>Disappointed</td>\n",
       "      <td>NaN</td>\n",
       "      <td>NaN</td>\n",
       "      <td>rebecca</td>\n",
       "      <td>Negative</td>\n",
       "    </tr>\n",
       "    <tr>\n",
       "      <th>4</th>\n",
       "      <td>AV16khLE-jtxr-f38VFn</td>\n",
       "      <td>K-Y</td>\n",
       "      <td>Personal Care,Medicine Cabinet,Lubricant/Sperm...</td>\n",
       "      <td>K-Y</td>\n",
       "      <td>K-Y Love Sensuality Pleasure Gel</td>\n",
       "      <td>2016-12-21T00:00:00.000Z</td>\n",
       "      <td>False</td>\n",
       "      <td>False</td>\n",
       "      <td>1</td>\n",
       "      <td>My husband bought this gel for us. The gel cau...</td>\n",
       "      <td>Irritation</td>\n",
       "      <td>NaN</td>\n",
       "      <td>NaN</td>\n",
       "      <td>walker557</td>\n",
       "      <td>Negative</td>\n",
       "    </tr>\n",
       "  </tbody>\n",
       "</table>\n",
       "</div>"
      ],
      "text/plain": [
       "                     id            brand  \\\n",
       "0  AV13O1A8GV-KLJ3akUyj  Universal Music   \n",
       "1  AV14LG0R-jtxr-f38QfS         Lundberg   \n",
       "2  AV14LG0R-jtxr-f38QfS         Lundberg   \n",
       "3  AV16khLE-jtxr-f38VFn              K-Y   \n",
       "4  AV16khLE-jtxr-f38VFn              K-Y   \n",
       "\n",
       "                                          categories  \\\n",
       "0  Movies, Music & Books,Music,R&b,Movies & TV,Mo...   \n",
       "1  Food,Packaged Foods,Snacks,Crackers,Snacks, Co...   \n",
       "2  Food,Packaged Foods,Snacks,Crackers,Snacks, Co...   \n",
       "3  Personal Care,Medicine Cabinet,Lubricant/Sperm...   \n",
       "4  Personal Care,Medicine Cabinet,Lubricant/Sperm...   \n",
       "\n",
       "                         manufacturer  \\\n",
       "0  Universal Music Group / Cash Money   \n",
       "1                            Lundberg   \n",
       "2                            Lundberg   \n",
       "3                                 K-Y   \n",
       "4                                 K-Y   \n",
       "\n",
       "                                         name              reviews_date  \\\n",
       "0   Pink Friday: Roman Reloaded Re-Up (w/dvd)  2012-11-30T06:21:45.000Z   \n",
       "1  Lundberg Organic Cinnamon Toast Rice Cakes  2017-07-09T00:00:00.000Z   \n",
       "2  Lundberg Organic Cinnamon Toast Rice Cakes  2017-07-09T00:00:00.000Z   \n",
       "3            K-Y Love Sensuality Pleasure Gel  2016-01-06T00:00:00.000Z   \n",
       "4            K-Y Love Sensuality Pleasure Gel  2016-12-21T00:00:00.000Z   \n",
       "\n",
       "  reviews_didPurchase reviews_doRecommend  reviews_rating  \\\n",
       "0                 NaN                 NaN               5   \n",
       "1                True                 NaN               5   \n",
       "2                True                 NaN               5   \n",
       "3               False               False               1   \n",
       "4               False               False               1   \n",
       "\n",
       "                                        reviews_text reviews_title  \\\n",
       "0  i love this album. it's very good. more to the...  Just Awesome   \n",
       "1  Good flavor. This review was collected as part...          Good   \n",
       "2                                       Good flavor.          Good   \n",
       "3  I read through the reviews on here before look...  Disappointed   \n",
       "4  My husband bought this gel for us. The gel cau...    Irritation   \n",
       "\n",
       "  reviews_userCity reviews_userProvince reviews_username user_sentiment  \n",
       "0      Los Angeles                  NaN           joshua       Positive  \n",
       "1              NaN                  NaN        dorothy w       Positive  \n",
       "2              NaN                  NaN        dorothy w       Positive  \n",
       "3              NaN                  NaN          rebecca       Negative  \n",
       "4              NaN                  NaN        walker557       Negative  "
      ]
     },
     "execution_count": 4,
     "metadata": {},
     "output_type": "execute_result"
    }
   ],
   "source": [
    "reviews_dataset.head()"
   ]
  },
  {
   "cell_type": "code",
   "execution_count": 5,
   "id": "d3e6a4c3-d8fa-4e30-8407-573efdd544f2",
   "metadata": {},
   "outputs": [
    {
     "name": "stdout",
     "output_type": "stream",
     "text": [
      "<class 'pandas.core.frame.DataFrame'>\n",
      "RangeIndex: 30000 entries, 0 to 29999\n",
      "Data columns (total 15 columns):\n",
      " #   Column                Non-Null Count  Dtype \n",
      "---  ------                --------------  ----- \n",
      " 0   id                    30000 non-null  object\n",
      " 1   brand                 30000 non-null  object\n",
      " 2   categories            30000 non-null  object\n",
      " 3   manufacturer          29859 non-null  object\n",
      " 4   name                  30000 non-null  object\n",
      " 5   reviews_date          29954 non-null  object\n",
      " 6   reviews_didPurchase   15932 non-null  object\n",
      " 7   reviews_doRecommend   27430 non-null  object\n",
      " 8   reviews_rating        30000 non-null  int64 \n",
      " 9   reviews_text          30000 non-null  object\n",
      " 10  reviews_title         29810 non-null  object\n",
      " 11  reviews_userCity      1929 non-null   object\n",
      " 12  reviews_userProvince  170 non-null    object\n",
      " 13  reviews_username      29937 non-null  object\n",
      " 14  user_sentiment        29999 non-null  object\n",
      "dtypes: int64(1), object(14)\n",
      "memory usage: 3.4+ MB\n"
     ]
    }
   ],
   "source": [
    "# Checking for missing values in data\n",
    "reviews_dataset.info()"
   ]
  },
  {
   "cell_type": "code",
   "execution_count": 6,
   "id": "84d5531a-408d-406b-b5b1-955959e41311",
   "metadata": {},
   "outputs": [
    {
     "name": "stdout",
     "output_type": "stream",
     "text": [
      "Number of reviews:  30000\n",
      "Number of unique reviewers:  24915\n",
      "Proportion of unique reviewers:  0.831\n",
      "Average rating score:  4.483\n"
     ]
    }
   ],
   "source": [
    "### Total reviews\n",
    "total = len(reviews_dataset['reviews_text'])\n",
    "print (\"Number of reviews: \",total)\n",
    "\n",
    "### How many unique reviewers?\n",
    "print (\"Number of unique reviewers: \",len(reviews_dataset['reviews_username'].unique()))\n",
    "reviewer_prop = float(len(reviews_dataset['reviews_username'].unique())/total)\n",
    "print (\"Proportion of unique reviewers: \",round(reviewer_prop,3))\n",
    "\n",
    "### Average star score\n",
    "print (\"Average rating score: \",round(reviews_dataset['reviews_rating'].mean(),3))"
   ]
  },
  {
   "cell_type": "code",
   "execution_count": 7,
   "id": "e7f0b4c1-782d-43d8-b5b9-27f3cc1a2840",
   "metadata": {},
   "outputs": [
    {
     "name": "stdout",
     "output_type": "stream",
     "text": [
      "rows:  30000\n",
      "columns:  15\n",
      "\n",
      "features:  ['id', 'brand', 'categories', 'manufacturer', 'name', 'reviews_date', 'reviews_didPurchase', 'reviews_doRecommend', 'reviews_rating', 'reviews_text', 'reviews_title', 'reviews_userCity', 'reviews_userProvince', 'reviews_username', 'user_sentiment']\n",
      "\n",
      "missing vlues:  74980\n",
      "\n",
      "Unique values: \n",
      " id                        271\n",
      "brand                     214\n",
      "categories                270\n",
      "manufacturer              227\n",
      "name                      271\n",
      "reviews_date             6857\n",
      "reviews_didPurchase         2\n",
      "reviews_doRecommend         2\n",
      "reviews_rating              5\n",
      "reviews_text            27282\n",
      "reviews_title           18535\n",
      "reviews_userCity          977\n",
      "reviews_userProvince       42\n",
      "reviews_username        24914\n",
      "user_sentiment              2\n",
      "dtype: int64\n"
     ]
    }
   ],
   "source": [
    "#data overivew\n",
    "print('rows: ', reviews_dataset.shape[0])\n",
    "print('columns: ', reviews_dataset.shape[1])\n",
    "print('\\nfeatures: ', reviews_dataset.columns.to_list())\n",
    "print('\\nmissing vlues: ', reviews_dataset.isnull().values.sum())\n",
    "print('\\nUnique values: \\n', reviews_dataset.nunique())"
   ]
  },
  {
   "cell_type": "code",
   "execution_count": 8,
   "id": "9dcf6f6b-45d9-4075-af1e-ddbfff16b341",
   "metadata": {},
   "outputs": [
    {
     "data": {
      "text/html": [
       "<div>\n",
       "<style scoped>\n",
       "    .dataframe tbody tr th:only-of-type {\n",
       "        vertical-align: middle;\n",
       "    }\n",
       "\n",
       "    .dataframe tbody tr th {\n",
       "        vertical-align: top;\n",
       "    }\n",
       "\n",
       "    .dataframe thead th {\n",
       "        text-align: right;\n",
       "    }\n",
       "</style>\n",
       "<table border=\"1\" class=\"dataframe\">\n",
       "  <thead>\n",
       "    <tr style=\"text-align: right;\">\n",
       "      <th></th>\n",
       "      <th>id</th>\n",
       "      <th>brand</th>\n",
       "      <th>categories</th>\n",
       "      <th>manufacturer</th>\n",
       "      <th>name</th>\n",
       "      <th>reviews_date</th>\n",
       "      <th>reviews_didPurchase</th>\n",
       "      <th>reviews_doRecommend</th>\n",
       "      <th>reviews_rating</th>\n",
       "      <th>reviews_text</th>\n",
       "      <th>reviews_title</th>\n",
       "      <th>reviews_userCity</th>\n",
       "      <th>reviews_userProvince</th>\n",
       "      <th>reviews_username</th>\n",
       "      <th>user_sentiment</th>\n",
       "      <th>reviews_title_text</th>\n",
       "    </tr>\n",
       "  </thead>\n",
       "  <tbody>\n",
       "    <tr>\n",
       "      <th>0</th>\n",
       "      <td>AV13O1A8GV-KLJ3akUyj</td>\n",
       "      <td>Universal Music</td>\n",
       "      <td>Movies, Music &amp; Books,Music,R&amp;b,Movies &amp; TV,Mo...</td>\n",
       "      <td>Universal Music Group / Cash Money</td>\n",
       "      <td>Pink Friday: Roman Reloaded Re-Up (w/dvd)</td>\n",
       "      <td>2012-11-30T06:21:45.000Z</td>\n",
       "      <td>NaN</td>\n",
       "      <td>NaN</td>\n",
       "      <td>5</td>\n",
       "      <td>i love this album. it's very good. more to the...</td>\n",
       "      <td>Just Awesome</td>\n",
       "      <td>Los Angeles</td>\n",
       "      <td>NaN</td>\n",
       "      <td>joshua</td>\n",
       "      <td>Positive</td>\n",
       "      <td>Just Awesome i love this album. it's very good...</td>\n",
       "    </tr>\n",
       "    <tr>\n",
       "      <th>1</th>\n",
       "      <td>AV14LG0R-jtxr-f38QfS</td>\n",
       "      <td>Lundberg</td>\n",
       "      <td>Food,Packaged Foods,Snacks,Crackers,Snacks, Co...</td>\n",
       "      <td>Lundberg</td>\n",
       "      <td>Lundberg Organic Cinnamon Toast Rice Cakes</td>\n",
       "      <td>2017-07-09T00:00:00.000Z</td>\n",
       "      <td>True</td>\n",
       "      <td>NaN</td>\n",
       "      <td>5</td>\n",
       "      <td>Good flavor. This review was collected as part...</td>\n",
       "      <td>Good</td>\n",
       "      <td>NaN</td>\n",
       "      <td>NaN</td>\n",
       "      <td>dorothy w</td>\n",
       "      <td>Positive</td>\n",
       "      <td>Good Good flavor. This review was collected as...</td>\n",
       "    </tr>\n",
       "    <tr>\n",
       "      <th>2</th>\n",
       "      <td>AV14LG0R-jtxr-f38QfS</td>\n",
       "      <td>Lundberg</td>\n",
       "      <td>Food,Packaged Foods,Snacks,Crackers,Snacks, Co...</td>\n",
       "      <td>Lundberg</td>\n",
       "      <td>Lundberg Organic Cinnamon Toast Rice Cakes</td>\n",
       "      <td>2017-07-09T00:00:00.000Z</td>\n",
       "      <td>True</td>\n",
       "      <td>NaN</td>\n",
       "      <td>5</td>\n",
       "      <td>Good flavor.</td>\n",
       "      <td>Good</td>\n",
       "      <td>NaN</td>\n",
       "      <td>NaN</td>\n",
       "      <td>dorothy w</td>\n",
       "      <td>Positive</td>\n",
       "      <td>Good Good flavor.</td>\n",
       "    </tr>\n",
       "    <tr>\n",
       "      <th>3</th>\n",
       "      <td>AV16khLE-jtxr-f38VFn</td>\n",
       "      <td>K-Y</td>\n",
       "      <td>Personal Care,Medicine Cabinet,Lubricant/Sperm...</td>\n",
       "      <td>K-Y</td>\n",
       "      <td>K-Y Love Sensuality Pleasure Gel</td>\n",
       "      <td>2016-01-06T00:00:00.000Z</td>\n",
       "      <td>False</td>\n",
       "      <td>False</td>\n",
       "      <td>1</td>\n",
       "      <td>I read through the reviews on here before look...</td>\n",
       "      <td>Disappointed</td>\n",
       "      <td>NaN</td>\n",
       "      <td>NaN</td>\n",
       "      <td>rebecca</td>\n",
       "      <td>Negative</td>\n",
       "      <td>Disappointed I read through the reviews on her...</td>\n",
       "    </tr>\n",
       "    <tr>\n",
       "      <th>4</th>\n",
       "      <td>AV16khLE-jtxr-f38VFn</td>\n",
       "      <td>K-Y</td>\n",
       "      <td>Personal Care,Medicine Cabinet,Lubricant/Sperm...</td>\n",
       "      <td>K-Y</td>\n",
       "      <td>K-Y Love Sensuality Pleasure Gel</td>\n",
       "      <td>2016-12-21T00:00:00.000Z</td>\n",
       "      <td>False</td>\n",
       "      <td>False</td>\n",
       "      <td>1</td>\n",
       "      <td>My husband bought this gel for us. The gel cau...</td>\n",
       "      <td>Irritation</td>\n",
       "      <td>NaN</td>\n",
       "      <td>NaN</td>\n",
       "      <td>walker557</td>\n",
       "      <td>Negative</td>\n",
       "      <td>Irritation My husband bought this gel for us. ...</td>\n",
       "    </tr>\n",
       "    <tr>\n",
       "      <th>...</th>\n",
       "      <td>...</td>\n",
       "      <td>...</td>\n",
       "      <td>...</td>\n",
       "      <td>...</td>\n",
       "      <td>...</td>\n",
       "      <td>...</td>\n",
       "      <td>...</td>\n",
       "      <td>...</td>\n",
       "      <td>...</td>\n",
       "      <td>...</td>\n",
       "      <td>...</td>\n",
       "      <td>...</td>\n",
       "      <td>...</td>\n",
       "      <td>...</td>\n",
       "      <td>...</td>\n",
       "      <td>...</td>\n",
       "    </tr>\n",
       "    <tr>\n",
       "      <th>29994</th>\n",
       "      <td>AVpfW8y_LJeJML437ySW</td>\n",
       "      <td>L'oreal Paris</td>\n",
       "      <td>Beauty,Hair Care,Shampoo &amp; Conditioner,Holiday...</td>\n",
       "      <td>L'oreal Paris</td>\n",
       "      <td>L'or233al Paris Elvive Extraordinary Clay Reba...</td>\n",
       "      <td>2017-01-23T00:00:00.000Z</td>\n",
       "      <td>False</td>\n",
       "      <td>True</td>\n",
       "      <td>5</td>\n",
       "      <td>I got this conditioner with Influenster to try...</td>\n",
       "      <td>Softness!!</td>\n",
       "      <td>NaN</td>\n",
       "      <td>NaN</td>\n",
       "      <td>laurasnchz</td>\n",
       "      <td>Positive</td>\n",
       "      <td>Softness!! I got this conditioner with Influen...</td>\n",
       "    </tr>\n",
       "    <tr>\n",
       "      <th>29995</th>\n",
       "      <td>AVpfW8y_LJeJML437ySW</td>\n",
       "      <td>L'oreal Paris</td>\n",
       "      <td>Beauty,Hair Care,Shampoo &amp; Conditioner,Holiday...</td>\n",
       "      <td>L'oreal Paris</td>\n",
       "      <td>L'or233al Paris Elvive Extraordinary Clay Reba...</td>\n",
       "      <td>2017-01-27T00:00:00.000Z</td>\n",
       "      <td>False</td>\n",
       "      <td>True</td>\n",
       "      <td>5</td>\n",
       "      <td>I love it , I received this for review purpose...</td>\n",
       "      <td>I love it</td>\n",
       "      <td>NaN</td>\n",
       "      <td>NaN</td>\n",
       "      <td>scarlepadilla</td>\n",
       "      <td>Positive</td>\n",
       "      <td>I love it I love it , I received this for revi...</td>\n",
       "    </tr>\n",
       "    <tr>\n",
       "      <th>29996</th>\n",
       "      <td>AVpfW8y_LJeJML437ySW</td>\n",
       "      <td>L'oreal Paris</td>\n",
       "      <td>Beauty,Hair Care,Shampoo &amp; Conditioner,Holiday...</td>\n",
       "      <td>L'oreal Paris</td>\n",
       "      <td>L'or233al Paris Elvive Extraordinary Clay Reba...</td>\n",
       "      <td>2017-01-21T00:00:00.000Z</td>\n",
       "      <td>False</td>\n",
       "      <td>True</td>\n",
       "      <td>5</td>\n",
       "      <td>First of all I love the smell of this product....</td>\n",
       "      <td>Hair is so smooth after use</td>\n",
       "      <td>NaN</td>\n",
       "      <td>NaN</td>\n",
       "      <td>liviasuexo</td>\n",
       "      <td>Positive</td>\n",
       "      <td>Hair is so smooth after use First of all I lov...</td>\n",
       "    </tr>\n",
       "    <tr>\n",
       "      <th>29997</th>\n",
       "      <td>AVpfW8y_LJeJML437ySW</td>\n",
       "      <td>L'oreal Paris</td>\n",
       "      <td>Beauty,Hair Care,Shampoo &amp; Conditioner,Holiday...</td>\n",
       "      <td>L'oreal Paris</td>\n",
       "      <td>L'or233al Paris Elvive Extraordinary Clay Reba...</td>\n",
       "      <td>2017-01-11T00:00:00.000Z</td>\n",
       "      <td>False</td>\n",
       "      <td>True</td>\n",
       "      <td>5</td>\n",
       "      <td>I received this through Influenster and will n...</td>\n",
       "      <td>Perfect for my oily hair!</td>\n",
       "      <td>NaN</td>\n",
       "      <td>NaN</td>\n",
       "      <td>ktreed95</td>\n",
       "      <td>Positive</td>\n",
       "      <td>Perfect for my oily hair! I received this thro...</td>\n",
       "    </tr>\n",
       "    <tr>\n",
       "      <th>29998</th>\n",
       "      <td>AVpfW8y_LJeJML437ySW</td>\n",
       "      <td>L'oreal Paris</td>\n",
       "      <td>Beauty,Hair Care,Shampoo &amp; Conditioner,Holiday...</td>\n",
       "      <td>L'oreal Paris</td>\n",
       "      <td>L'or233al Paris Elvive Extraordinary Clay Reba...</td>\n",
       "      <td>2017-01-19T00:00:00.000Z</td>\n",
       "      <td>False</td>\n",
       "      <td>True</td>\n",
       "      <td>5</td>\n",
       "      <td>I received this product complimentary from inf...</td>\n",
       "      <td>Conditioned into healthy</td>\n",
       "      <td>NaN</td>\n",
       "      <td>NaN</td>\n",
       "      <td>kcoopxoxo</td>\n",
       "      <td>Positive</td>\n",
       "      <td>Conditioned into healthy I received this produ...</td>\n",
       "    </tr>\n",
       "  </tbody>\n",
       "</table>\n",
       "<p>29999 rows × 16 columns</p>\n",
       "</div>"
      ],
      "text/plain": [
       "                         id            brand  \\\n",
       "0      AV13O1A8GV-KLJ3akUyj  Universal Music   \n",
       "1      AV14LG0R-jtxr-f38QfS         Lundberg   \n",
       "2      AV14LG0R-jtxr-f38QfS         Lundberg   \n",
       "3      AV16khLE-jtxr-f38VFn              K-Y   \n",
       "4      AV16khLE-jtxr-f38VFn              K-Y   \n",
       "...                     ...              ...   \n",
       "29994  AVpfW8y_LJeJML437ySW    L'oreal Paris   \n",
       "29995  AVpfW8y_LJeJML437ySW    L'oreal Paris   \n",
       "29996  AVpfW8y_LJeJML437ySW    L'oreal Paris   \n",
       "29997  AVpfW8y_LJeJML437ySW    L'oreal Paris   \n",
       "29998  AVpfW8y_LJeJML437ySW    L'oreal Paris   \n",
       "\n",
       "                                              categories  \\\n",
       "0      Movies, Music & Books,Music,R&b,Movies & TV,Mo...   \n",
       "1      Food,Packaged Foods,Snacks,Crackers,Snacks, Co...   \n",
       "2      Food,Packaged Foods,Snacks,Crackers,Snacks, Co...   \n",
       "3      Personal Care,Medicine Cabinet,Lubricant/Sperm...   \n",
       "4      Personal Care,Medicine Cabinet,Lubricant/Sperm...   \n",
       "...                                                  ...   \n",
       "29994  Beauty,Hair Care,Shampoo & Conditioner,Holiday...   \n",
       "29995  Beauty,Hair Care,Shampoo & Conditioner,Holiday...   \n",
       "29996  Beauty,Hair Care,Shampoo & Conditioner,Holiday...   \n",
       "29997  Beauty,Hair Care,Shampoo & Conditioner,Holiday...   \n",
       "29998  Beauty,Hair Care,Shampoo & Conditioner,Holiday...   \n",
       "\n",
       "                             manufacturer  \\\n",
       "0      Universal Music Group / Cash Money   \n",
       "1                                Lundberg   \n",
       "2                                Lundberg   \n",
       "3                                     K-Y   \n",
       "4                                     K-Y   \n",
       "...                                   ...   \n",
       "29994                       L'oreal Paris   \n",
       "29995                       L'oreal Paris   \n",
       "29996                       L'oreal Paris   \n",
       "29997                       L'oreal Paris   \n",
       "29998                       L'oreal Paris   \n",
       "\n",
       "                                                    name  \\\n",
       "0              Pink Friday: Roman Reloaded Re-Up (w/dvd)   \n",
       "1             Lundberg Organic Cinnamon Toast Rice Cakes   \n",
       "2             Lundberg Organic Cinnamon Toast Rice Cakes   \n",
       "3                       K-Y Love Sensuality Pleasure Gel   \n",
       "4                       K-Y Love Sensuality Pleasure Gel   \n",
       "...                                                  ...   \n",
       "29994  L'or233al Paris Elvive Extraordinary Clay Reba...   \n",
       "29995  L'or233al Paris Elvive Extraordinary Clay Reba...   \n",
       "29996  L'or233al Paris Elvive Extraordinary Clay Reba...   \n",
       "29997  L'or233al Paris Elvive Extraordinary Clay Reba...   \n",
       "29998  L'or233al Paris Elvive Extraordinary Clay Reba...   \n",
       "\n",
       "                   reviews_date reviews_didPurchase reviews_doRecommend  \\\n",
       "0      2012-11-30T06:21:45.000Z                 NaN                 NaN   \n",
       "1      2017-07-09T00:00:00.000Z                True                 NaN   \n",
       "2      2017-07-09T00:00:00.000Z                True                 NaN   \n",
       "3      2016-01-06T00:00:00.000Z               False               False   \n",
       "4      2016-12-21T00:00:00.000Z               False               False   \n",
       "...                         ...                 ...                 ...   \n",
       "29994  2017-01-23T00:00:00.000Z               False                True   \n",
       "29995  2017-01-27T00:00:00.000Z               False                True   \n",
       "29996  2017-01-21T00:00:00.000Z               False                True   \n",
       "29997  2017-01-11T00:00:00.000Z               False                True   \n",
       "29998  2017-01-19T00:00:00.000Z               False                True   \n",
       "\n",
       "       reviews_rating                                       reviews_text  \\\n",
       "0                   5  i love this album. it's very good. more to the...   \n",
       "1                   5  Good flavor. This review was collected as part...   \n",
       "2                   5                                       Good flavor.   \n",
       "3                   1  I read through the reviews on here before look...   \n",
       "4                   1  My husband bought this gel for us. The gel cau...   \n",
       "...               ...                                                ...   \n",
       "29994               5  I got this conditioner with Influenster to try...   \n",
       "29995               5  I love it , I received this for review purpose...   \n",
       "29996               5  First of all I love the smell of this product....   \n",
       "29997               5  I received this through Influenster and will n...   \n",
       "29998               5  I received this product complimentary from inf...   \n",
       "\n",
       "                     reviews_title reviews_userCity reviews_userProvince  \\\n",
       "0                     Just Awesome      Los Angeles                  NaN   \n",
       "1                             Good              NaN                  NaN   \n",
       "2                             Good              NaN                  NaN   \n",
       "3                     Disappointed              NaN                  NaN   \n",
       "4                       Irritation              NaN                  NaN   \n",
       "...                            ...              ...                  ...   \n",
       "29994                   Softness!!              NaN                  NaN   \n",
       "29995                    I love it              NaN                  NaN   \n",
       "29996  Hair is so smooth after use              NaN                  NaN   \n",
       "29997    Perfect for my oily hair!              NaN                  NaN   \n",
       "29998     Conditioned into healthy              NaN                  NaN   \n",
       "\n",
       "      reviews_username user_sentiment  \\\n",
       "0               joshua       Positive   \n",
       "1            dorothy w       Positive   \n",
       "2            dorothy w       Positive   \n",
       "3              rebecca       Negative   \n",
       "4            walker557       Negative   \n",
       "...                ...            ...   \n",
       "29994       laurasnchz       Positive   \n",
       "29995    scarlepadilla       Positive   \n",
       "29996       liviasuexo       Positive   \n",
       "29997         ktreed95       Positive   \n",
       "29998        kcoopxoxo       Positive   \n",
       "\n",
       "                                      reviews_title_text  \n",
       "0      Just Awesome i love this album. it's very good...  \n",
       "1      Good Good flavor. This review was collected as...  \n",
       "2                                      Good Good flavor.  \n",
       "3      Disappointed I read through the reviews on her...  \n",
       "4      Irritation My husband bought this gel for us. ...  \n",
       "...                                                  ...  \n",
       "29994  Softness!! I got this conditioner with Influen...  \n",
       "29995  I love it I love it , I received this for revi...  \n",
       "29996  Hair is so smooth after use First of all I lov...  \n",
       "29997  Perfect for my oily hair! I received this thro...  \n",
       "29998  Conditioned into healthy I received this produ...  \n",
       "\n",
       "[29999 rows x 16 columns]"
      ]
     },
     "execution_count": 8,
     "metadata": {},
     "output_type": "execute_result"
    }
   ],
   "source": [
    "# Concatenating review title and review text which would be used for sentiment analysis\n",
    "for_sentiment_analysis=reviews_dataset\n",
    "for_sentiment_analysis['reviews_title_text']= reviews_dataset['reviews_title'].fillna('') +\" \"+ reviews_dataset['reviews_text']\n",
    "\n",
    "# Dropping one row where user_sentiment is null\n",
    "for_sentiment_analysis=for_sentiment_analysis[for_sentiment_analysis['user_sentiment'].isnull()== False]\n",
    "for_sentiment_analysis.reset_index(drop=True)"
   ]
  },
  {
   "cell_type": "code",
   "execution_count": 9,
   "id": "a2269deb-819f-4a09-b5bc-0981e3135bb6",
   "metadata": {},
   "outputs": [
    {
     "data": {
      "text/html": [
       "<div>\n",
       "<style scoped>\n",
       "    .dataframe tbody tr th:only-of-type {\n",
       "        vertical-align: middle;\n",
       "    }\n",
       "\n",
       "    .dataframe tbody tr th {\n",
       "        vertical-align: top;\n",
       "    }\n",
       "\n",
       "    .dataframe thead th {\n",
       "        text-align: right;\n",
       "    }\n",
       "</style>\n",
       "<table border=\"1\" class=\"dataframe\">\n",
       "  <thead>\n",
       "    <tr style=\"text-align: right;\">\n",
       "      <th></th>\n",
       "      <th>id</th>\n",
       "      <th>brand</th>\n",
       "      <th>categories</th>\n",
       "      <th>manufacturer</th>\n",
       "      <th>name</th>\n",
       "      <th>reviews_date</th>\n",
       "      <th>reviews_didPurchase</th>\n",
       "      <th>reviews_doRecommend</th>\n",
       "      <th>reviews_rating</th>\n",
       "      <th>reviews_text</th>\n",
       "      <th>reviews_title</th>\n",
       "      <th>reviews_userCity</th>\n",
       "      <th>reviews_userProvince</th>\n",
       "      <th>reviews_username</th>\n",
       "      <th>user_sentiment</th>\n",
       "      <th>reviews_title_text</th>\n",
       "    </tr>\n",
       "  </thead>\n",
       "  <tbody>\n",
       "    <tr>\n",
       "      <th>0</th>\n",
       "      <td>AV13O1A8GV-KLJ3akUyj</td>\n",
       "      <td>Universal Music</td>\n",
       "      <td>Movies, Music &amp; Books,Music,R&amp;b,Movies &amp; TV,Mo...</td>\n",
       "      <td>Universal Music Group / Cash Money</td>\n",
       "      <td>Pink Friday: Roman Reloaded Re-Up (w/dvd)</td>\n",
       "      <td>2012-11-30T06:21:45.000Z</td>\n",
       "      <td>NaN</td>\n",
       "      <td>NaN</td>\n",
       "      <td>5</td>\n",
       "      <td>i love this album. it's very good. more to the...</td>\n",
       "      <td>Just Awesome</td>\n",
       "      <td>Los Angeles</td>\n",
       "      <td>NaN</td>\n",
       "      <td>joshua</td>\n",
       "      <td>Positive</td>\n",
       "      <td>Just Awesome i love this album. it's very good...</td>\n",
       "    </tr>\n",
       "    <tr>\n",
       "      <th>1</th>\n",
       "      <td>AV14LG0R-jtxr-f38QfS</td>\n",
       "      <td>Lundberg</td>\n",
       "      <td>Food,Packaged Foods,Snacks,Crackers,Snacks, Co...</td>\n",
       "      <td>Lundberg</td>\n",
       "      <td>Lundberg Organic Cinnamon Toast Rice Cakes</td>\n",
       "      <td>2017-07-09T00:00:00.000Z</td>\n",
       "      <td>True</td>\n",
       "      <td>NaN</td>\n",
       "      <td>5</td>\n",
       "      <td>Good flavor. This review was collected as part...</td>\n",
       "      <td>Good</td>\n",
       "      <td>NaN</td>\n",
       "      <td>NaN</td>\n",
       "      <td>dorothy w</td>\n",
       "      <td>Positive</td>\n",
       "      <td>Good Good flavor. This review was collected as...</td>\n",
       "    </tr>\n",
       "    <tr>\n",
       "      <th>2</th>\n",
       "      <td>AV14LG0R-jtxr-f38QfS</td>\n",
       "      <td>Lundberg</td>\n",
       "      <td>Food,Packaged Foods,Snacks,Crackers,Snacks, Co...</td>\n",
       "      <td>Lundberg</td>\n",
       "      <td>Lundberg Organic Cinnamon Toast Rice Cakes</td>\n",
       "      <td>2017-07-09T00:00:00.000Z</td>\n",
       "      <td>True</td>\n",
       "      <td>NaN</td>\n",
       "      <td>5</td>\n",
       "      <td>Good flavor.</td>\n",
       "      <td>Good</td>\n",
       "      <td>NaN</td>\n",
       "      <td>NaN</td>\n",
       "      <td>dorothy w</td>\n",
       "      <td>Positive</td>\n",
       "      <td>Good Good flavor.</td>\n",
       "    </tr>\n",
       "    <tr>\n",
       "      <th>3</th>\n",
       "      <td>AV16khLE-jtxr-f38VFn</td>\n",
       "      <td>K-Y</td>\n",
       "      <td>Personal Care,Medicine Cabinet,Lubricant/Sperm...</td>\n",
       "      <td>K-Y</td>\n",
       "      <td>K-Y Love Sensuality Pleasure Gel</td>\n",
       "      <td>2016-01-06T00:00:00.000Z</td>\n",
       "      <td>False</td>\n",
       "      <td>False</td>\n",
       "      <td>1</td>\n",
       "      <td>I read through the reviews on here before look...</td>\n",
       "      <td>Disappointed</td>\n",
       "      <td>NaN</td>\n",
       "      <td>NaN</td>\n",
       "      <td>rebecca</td>\n",
       "      <td>Negative</td>\n",
       "      <td>Disappointed I read through the reviews on her...</td>\n",
       "    </tr>\n",
       "    <tr>\n",
       "      <th>4</th>\n",
       "      <td>AV16khLE-jtxr-f38VFn</td>\n",
       "      <td>K-Y</td>\n",
       "      <td>Personal Care,Medicine Cabinet,Lubricant/Sperm...</td>\n",
       "      <td>K-Y</td>\n",
       "      <td>K-Y Love Sensuality Pleasure Gel</td>\n",
       "      <td>2016-12-21T00:00:00.000Z</td>\n",
       "      <td>False</td>\n",
       "      <td>False</td>\n",
       "      <td>1</td>\n",
       "      <td>My husband bought this gel for us. The gel cau...</td>\n",
       "      <td>Irritation</td>\n",
       "      <td>NaN</td>\n",
       "      <td>NaN</td>\n",
       "      <td>walker557</td>\n",
       "      <td>Negative</td>\n",
       "      <td>Irritation My husband bought this gel for us. ...</td>\n",
       "    </tr>\n",
       "  </tbody>\n",
       "</table>\n",
       "</div>"
      ],
      "text/plain": [
       "                     id            brand  \\\n",
       "0  AV13O1A8GV-KLJ3akUyj  Universal Music   \n",
       "1  AV14LG0R-jtxr-f38QfS         Lundberg   \n",
       "2  AV14LG0R-jtxr-f38QfS         Lundberg   \n",
       "3  AV16khLE-jtxr-f38VFn              K-Y   \n",
       "4  AV16khLE-jtxr-f38VFn              K-Y   \n",
       "\n",
       "                                          categories  \\\n",
       "0  Movies, Music & Books,Music,R&b,Movies & TV,Mo...   \n",
       "1  Food,Packaged Foods,Snacks,Crackers,Snacks, Co...   \n",
       "2  Food,Packaged Foods,Snacks,Crackers,Snacks, Co...   \n",
       "3  Personal Care,Medicine Cabinet,Lubricant/Sperm...   \n",
       "4  Personal Care,Medicine Cabinet,Lubricant/Sperm...   \n",
       "\n",
       "                         manufacturer  \\\n",
       "0  Universal Music Group / Cash Money   \n",
       "1                            Lundberg   \n",
       "2                            Lundberg   \n",
       "3                                 K-Y   \n",
       "4                                 K-Y   \n",
       "\n",
       "                                         name              reviews_date  \\\n",
       "0   Pink Friday: Roman Reloaded Re-Up (w/dvd)  2012-11-30T06:21:45.000Z   \n",
       "1  Lundberg Organic Cinnamon Toast Rice Cakes  2017-07-09T00:00:00.000Z   \n",
       "2  Lundberg Organic Cinnamon Toast Rice Cakes  2017-07-09T00:00:00.000Z   \n",
       "3            K-Y Love Sensuality Pleasure Gel  2016-01-06T00:00:00.000Z   \n",
       "4            K-Y Love Sensuality Pleasure Gel  2016-12-21T00:00:00.000Z   \n",
       "\n",
       "  reviews_didPurchase reviews_doRecommend  reviews_rating  \\\n",
       "0                 NaN                 NaN               5   \n",
       "1                True                 NaN               5   \n",
       "2                True                 NaN               5   \n",
       "3               False               False               1   \n",
       "4               False               False               1   \n",
       "\n",
       "                                        reviews_text reviews_title  \\\n",
       "0  i love this album. it's very good. more to the...  Just Awesome   \n",
       "1  Good flavor. This review was collected as part...          Good   \n",
       "2                                       Good flavor.          Good   \n",
       "3  I read through the reviews on here before look...  Disappointed   \n",
       "4  My husband bought this gel for us. The gel cau...    Irritation   \n",
       "\n",
       "  reviews_userCity reviews_userProvince reviews_username user_sentiment  \\\n",
       "0      Los Angeles                  NaN           joshua       Positive   \n",
       "1              NaN                  NaN        dorothy w       Positive   \n",
       "2              NaN                  NaN        dorothy w       Positive   \n",
       "3              NaN                  NaN          rebecca       Negative   \n",
       "4              NaN                  NaN        walker557       Negative   \n",
       "\n",
       "                                  reviews_title_text  \n",
       "0  Just Awesome i love this album. it's very good...  \n",
       "1  Good Good flavor. This review was collected as...  \n",
       "2                                  Good Good flavor.  \n",
       "3  Disappointed I read through the reviews on her...  \n",
       "4  Irritation My husband bought this gel for us. ...  "
      ]
     },
     "execution_count": 9,
     "metadata": {},
     "output_type": "execute_result"
    }
   ],
   "source": [
    "for_sentiment_analysis.head()"
   ]
  },
  {
   "cell_type": "code",
   "execution_count": 15,
   "id": "5da8472e-caf0-40b0-8aa2-092266f3a210",
   "metadata": {},
   "outputs": [
    {
     "name": "stderr",
     "output_type": "stream",
     "text": [
      "[nltk_data] Downloading package stopwords to /home/nltk_data...\n",
      "[nltk_data]   Package stopwords is already up-to-date!\n",
      "[nltk_data] Downloading package averaged_perceptron_tagger to\n",
      "[nltk_data]     /home/nltk_data...\n",
      "[nltk_data]   Package averaged_perceptron_tagger is already up-to-\n",
      "[nltk_data]       date!\n",
      "[nltk_data] Downloading package wordnet to /home/nltk_data...\n",
      "[nltk_data]   Package wordnet is already up-to-date!\n",
      "[nltk_data] Downloading package punkt to /home/nltk_data...\n",
      "[nltk_data]   Package punkt is already up-to-date!\n",
      "[nltk_data] Downloading package omw-1.4 to /home/nltk_data...\n"
     ]
    },
    {
     "data": {
      "text/plain": [
       "True"
      ]
     },
     "execution_count": 15,
     "metadata": {},
     "output_type": "execute_result"
    }
   ],
   "source": [
    "# To download the stopwords from NLTK library\n",
    "import nltk\n",
    "nltk.download('stopwords')\n",
    "nltk.download('averaged_perceptron_tagger')\n",
    "nltk.download('wordnet')\n",
    "nltk.download('punkt')\n",
    "nltk.download('omw-1.4')"
   ]
  },
  {
   "cell_type": "code",
   "execution_count": 12,
   "id": "7fd4b8bc-9c29-471d-bc79-517f69d8e8d8",
   "metadata": {},
   "outputs": [],
   "source": [
    "# Function that returns the wordnet object value corresponding to the POS tag\n",
    "\n",
    "def get_wordnet_pos(pos_tag):\n",
    "    if pos_tag.startswith('J'):\n",
    "        return wordnet.ADJ\n",
    "    elif pos_tag.startswith('V'):\n",
    "        return wordnet.VERB\n",
    "    elif pos_tag.startswith('N'):\n",
    "        return wordnet.NOUN\n",
    "    elif pos_tag.startswith('R'):\n",
    "        return wordnet.ADV\n",
    "    else:\n",
    "        return wordnet.NOUN"
   ]
  },
  {
   "cell_type": "code",
   "execution_count": 13,
   "id": "b27ef3c4-b8b0-418f-b58b-1e6641946286",
   "metadata": {},
   "outputs": [],
   "source": [
    "\n",
    "\n",
    "# Function for cleaning the text\n",
    "\n",
    "def clean_text(text):\n",
    "    # lower text\n",
    "    text = text.lower()\n",
    "\n",
    "    # tokenize text and remove puncutation\n",
    "    text = [word.strip(string.punctuation) for word in text.split(\" \")]\n",
    "    # remove words that contain numbers\n",
    "    text = [word for word in text if not any(c.isdigit() for c in word)]\n",
    "    # remove stop words\n",
    "    stop = stopwords.words('english')\n",
    "    text = [x for x in text if x not in stop]\n",
    "    # remove empty tokens\n",
    "    text = [t for t in text if len(t) > 0]\n",
    "\n",
    "    # pos tag text\n",
    "    pos_tags = pos_tag(text)\n",
    "    # lemmatize text\n",
    "    text = [WordNetLemmatizer().lemmatize(t[0], get_wordnet_pos(t[1])) for t in pos_tags]\n",
    "    # remove words with only one letter\n",
    "    text = [t for t in text if len(t) > 1]\n",
    "\n",
    "    # join all\n",
    "    text = \" \".join(text)\n",
    "    return(text)\n",
    "\n"
   ]
  },
  {
   "cell_type": "code",
   "execution_count": 16,
   "id": "712afd0d-cae0-415a-b641-83ca29d9be9d",
   "metadata": {},
   "outputs": [
    {
     "name": "stderr",
     "output_type": "stream",
     "text": [
      "/tmp/ipykernel_1780/3305404814.py:2: SettingWithCopyWarning: \n",
      "A value is trying to be set on a copy of a slice from a DataFrame.\n",
      "Try using .loc[row_indexer,col_indexer] = value instead\n",
      "\n",
      "See the caveats in the documentation: https://pandas.pydata.org/pandas-docs/stable/user_guide/indexing.html#returning-a-view-versus-a-copy\n",
      "  for_sentiment_analysis[\"reviews_clean\"] = for_sentiment_analysis.apply(lambda x: clean_text(x['reviews_title_text']),axis=1)\n"
     ]
    }
   ],
   "source": [
    "# clean text data\n",
    "for_sentiment_analysis[\"reviews_clean\"] = for_sentiment_analysis.apply(lambda x: clean_text(x['reviews_title_text']),axis=1)"
   ]
  },
  {
   "cell_type": "code",
   "execution_count": 17,
   "id": "4143bb53-470b-49a5-a7e3-3184439de49f",
   "metadata": {},
   "outputs": [
    {
     "data": {
      "image/png": "[encoded data removed]",
      "text/plain": [
       "<Figure size 720x360 with 1 Axes>"
      ]
     },
     "metadata": {},
     "output_type": "display_data"
    }
   ],
   "source": [
    "## Getting the number of words by splitting them by a space\n",
    "\n",
    "sns.set(font_scale=1)\n",
    "plt.figure(figsize = (10,5))\n",
    "words_per_review = for_sentiment_analysis.reviews_clean.apply(lambda x: len(x.split(\" \")))\n",
    "words_per_review.hist(bins = 100)\n",
    "plt.xlabel('Review Length (words)')\n",
    "plt.ylabel('Frequency')\n",
    "plt.show()"
   ]
  },
  {
   "cell_type": "code",
   "execution_count": 18,
   "id": "17724027-1834-4dde-ad8b-5657aefb6773",
   "metadata": {},
   "outputs": [
    {
     "name": "stdout",
     "output_type": "stream",
     "text": [
      "Average words: 19.492916430547684\n",
      "Skewness: 6.344025993536622\n"
     ]
    }
   ],
   "source": [
    "print('Average words:', words_per_review.mean())\n",
    "print('Skewness:', words_per_review.skew())"
   ]
  },
  {
   "cell_type": "code",
   "execution_count": 19,
   "id": "8862cc2c-4bd8-4402-8b8a-f88e0713413f",
   "metadata": {},
   "outputs": [
    {
     "data": {
      "image/png": "[encoded data removed]",
      "text/plain": [
       "<Figure size 432x288 with 1 Axes>"
      ]
     },
     "metadata": {},
     "output_type": "display_data"
    }
   ],
   "source": [
    "percent_val = 100 * for_sentiment_analysis['user_sentiment'].value_counts()/len(for_sentiment_analysis)\n",
    "percent_val.plot.bar()\n",
    "plt.show()"
   ]
  },
  {
   "cell_type": "code",
   "execution_count": 20,
   "id": "cc05ace9-8471-4c31-946e-0e6bdb94157f",
   "metadata": {},
   "outputs": [
    {
     "data": {
      "image/png": "[encoded data removed]",
      "text/plain": [
       "<Figure size 432x288 with 1 Axes>"
      ]
     },
     "metadata": {},
     "output_type": "display_data"
    }
   ],
   "source": [
    "percent_val2 = 100 * for_sentiment_analysis['reviews_rating'].value_counts()/len(for_sentiment_analysis)\n",
    "percent_val2.plot.bar()\n",
    "plt.show()"
   ]
  },
  {
   "cell_type": "code",
   "execution_count": 21,
   "id": "02c6919b-eb69-4861-b59e-c4b20afde568",
   "metadata": {},
   "outputs": [],
   "source": [
    "## In almost 70% of the records the user has rated 5"
   ]
  },
  {
   "cell_type": "code",
   "execution_count": 22,
   "id": "890876cc-3683-4c24-bfc2-2b9bd5920f37",
   "metadata": {},
   "outputs": [
    {
     "data": {
      "image/png": "[encoded data removed]",
      "text/plain": [
       "<Figure size 1080x720 with 2 Axes>"
      ]
     },
     "metadata": {},
     "output_type": "display_data"
    }
   ],
   "source": [
    "# Word clouds for postive and negative reviews\n",
    "\n",
    "sns.set(font_scale=2)\n",
    "plt.figure(figsize = (15,10))\n",
    "\n",
    "plt.subplot(1, 2, 1)\n",
    "plt.title('Positive')\n",
    "positive_reviews=for_sentiment_analysis.loc[for_sentiment_analysis.user_sentiment=='Positive',['reviews_clean']]\n",
    "word_cloud_text = ''.join(positive_reviews['reviews_clean'])\n",
    "wordcloud = WordCloud(max_font_size=100, # Maximum font size for the largest word\n",
    "                      max_words=100, # The maximum number of words\n",
    "                      background_color=\"white\", # Background color for the word cloud image\n",
    "                      scale = 10, # Scaling between computation and drawing\n",
    "                      width=800, # Width of the canvas\n",
    "                      height=400 # Height of the canvas\n",
    "                     ).generate(word_cloud_text)\n",
    "\n",
    "plt.imshow(wordcloud,\n",
    "           interpolation=\"bilinear\") # to make the displayed image appear more smoothly\n",
    "plt.axis(\"off\")\n",
    "plt.tight_layout()\n",
    "\n",
    "\n",
    "plt.subplot(1, 2, 2)\n",
    "plt.title('Negative')\n",
    "negative_reviews=for_sentiment_analysis.loc[for_sentiment_analysis.user_sentiment=='Negative',['reviews_clean']]\n",
    "\n",
    "word_cloud_text = ''.join(negative_reviews['reviews_clean'])\n",
    "\n",
    "wordcloud = WordCloud(max_font_size=100, # Maximum font size for the largest word\n",
    "                      max_words=100, # The maximum number of words\n",
    "                      background_color=\"white\", # Background color for the word cloud image\n",
    "                      scale = 10, # Scaling between computation and drawing\n",
    "                      width=800, # Width of the canvas\n",
    "                      height=400 # Height of the canvas\n",
    "                     ).generate(word_cloud_text)\n",
    "\n",
    "plt.imshow(wordcloud,\n",
    "           interpolation=\"bilinear\") # to make the displayed image appear more smoothly\n",
    "plt.axis(\"off\")\n",
    "plt.tight_layout()"
   ]
  },
  {
   "cell_type": "code",
   "execution_count": 23,
   "id": "e5f16126-11f0-42ad-850e-2018f72b73f8",
   "metadata": {},
   "outputs": [],
   "source": [
    "## Words associated with Positive reviews are mostly - 'great', 'promotion', 'good', 'love', 'use'\n",
    "## Words associated with Negative reviews are mostly - 'bad', 'horrible', 'smell', 'little', 'nothing'"
   ]
  },
  {
   "cell_type": "code",
   "execution_count": 24,
   "id": "bc0f3d35-cbd8-4d1a-9830-c3c181fae5f9",
   "metadata": {},
   "outputs": [
    {
     "data": {
      "text/plain": [
       "id                          0\n",
       "brand                       0\n",
       "categories                  0\n",
       "manufacturer              141\n",
       "name                        0\n",
       "reviews_date               46\n",
       "reviews_didPurchase     14067\n",
       "reviews_doRecommend      2570\n",
       "reviews_rating              0\n",
       "reviews_text                0\n",
       "reviews_title             190\n",
       "reviews_userCity        28070\n",
       "reviews_userProvince    29830\n",
       "reviews_username           63\n",
       "user_sentiment              0\n",
       "reviews_title_text          0\n",
       "reviews_clean               0\n",
       "dtype: int64"
      ]
     },
     "execution_count": 24,
     "metadata": {},
     "output_type": "execute_result"
    }
   ],
   "source": [
    "# Finding the number of rows with Null values\n",
    "for_sentiment_analysis.isnull().sum()"
   ]
  },
  {
   "cell_type": "code",
   "execution_count": 25,
   "id": "71587028-93e5-4eca-9330-965de73e5905",
   "metadata": {},
   "outputs": [
    {
     "data": {
      "text/plain": [
       "(29999, 17)"
      ]
     },
     "execution_count": 25,
     "metadata": {},
     "output_type": "execute_result"
    }
   ],
   "source": [
    "#shape of the dataframe\n",
    "for_sentiment_analysis.shape"
   ]
  },
  {
   "cell_type": "code",
   "execution_count": 26,
   "id": "0e017c8f-e8e6-4cb5-967e-29473cf79b96",
   "metadata": {},
   "outputs": [
    {
     "data": {
      "text/html": [
       "<div>\n",
       "<style scoped>\n",
       "    .dataframe tbody tr th:only-of-type {\n",
       "        vertical-align: middle;\n",
       "    }\n",
       "\n",
       "    .dataframe tbody tr th {\n",
       "        vertical-align: top;\n",
       "    }\n",
       "\n",
       "    .dataframe thead th {\n",
       "        text-align: right;\n",
       "    }\n",
       "</style>\n",
       "<table border=\"1\" class=\"dataframe\">\n",
       "  <thead>\n",
       "    <tr style=\"text-align: right;\">\n",
       "      <th></th>\n",
       "      <th>id</th>\n",
       "      <th>brand</th>\n",
       "      <th>categories</th>\n",
       "      <th>manufacturer</th>\n",
       "      <th>name</th>\n",
       "      <th>reviews_date</th>\n",
       "      <th>reviews_didPurchase</th>\n",
       "      <th>reviews_doRecommend</th>\n",
       "      <th>reviews_rating</th>\n",
       "      <th>reviews_text</th>\n",
       "      <th>reviews_title</th>\n",
       "      <th>reviews_username</th>\n",
       "      <th>user_sentiment</th>\n",
       "      <th>reviews_title_text</th>\n",
       "      <th>reviews_clean</th>\n",
       "    </tr>\n",
       "  </thead>\n",
       "  <tbody>\n",
       "    <tr>\n",
       "      <th>0</th>\n",
       "      <td>AV13O1A8GV-KLJ3akUyj</td>\n",
       "      <td>Universal Music</td>\n",
       "      <td>Movies, Music &amp; Books,Music,R&amp;b,Movies &amp; TV,Mo...</td>\n",
       "      <td>Universal Music Group / Cash Money</td>\n",
       "      <td>Pink Friday: Roman Reloaded Re-Up (w/dvd)</td>\n",
       "      <td>2012-11-30T06:21:45.000Z</td>\n",
       "      <td>NaN</td>\n",
       "      <td>NaN</td>\n",
       "      <td>5</td>\n",
       "      <td>i love this album. it's very good. more to the...</td>\n",
       "      <td>Just Awesome</td>\n",
       "      <td>joshua</td>\n",
       "      <td>Positive</td>\n",
       "      <td>Just Awesome i love this album. it's very good...</td>\n",
       "      <td>awesome love album good hip hop side current p...</td>\n",
       "    </tr>\n",
       "    <tr>\n",
       "      <th>1</th>\n",
       "      <td>AV14LG0R-jtxr-f38QfS</td>\n",
       "      <td>Lundberg</td>\n",
       "      <td>Food,Packaged Foods,Snacks,Crackers,Snacks, Co...</td>\n",
       "      <td>Lundberg</td>\n",
       "      <td>Lundberg Organic Cinnamon Toast Rice Cakes</td>\n",
       "      <td>2017-07-09T00:00:00.000Z</td>\n",
       "      <td>True</td>\n",
       "      <td>NaN</td>\n",
       "      <td>5</td>\n",
       "      <td>Good flavor. This review was collected as part...</td>\n",
       "      <td>Good</td>\n",
       "      <td>dorothy w</td>\n",
       "      <td>Positive</td>\n",
       "      <td>Good Good flavor. This review was collected as...</td>\n",
       "      <td>good good flavor review collect part promotion</td>\n",
       "    </tr>\n",
       "    <tr>\n",
       "      <th>2</th>\n",
       "      <td>AV14LG0R-jtxr-f38QfS</td>\n",
       "      <td>Lundberg</td>\n",
       "      <td>Food,Packaged Foods,Snacks,Crackers,Snacks, Co...</td>\n",
       "      <td>Lundberg</td>\n",
       "      <td>Lundberg Organic Cinnamon Toast Rice Cakes</td>\n",
       "      <td>2017-07-09T00:00:00.000Z</td>\n",
       "      <td>True</td>\n",
       "      <td>NaN</td>\n",
       "      <td>5</td>\n",
       "      <td>Good flavor.</td>\n",
       "      <td>Good</td>\n",
       "      <td>dorothy w</td>\n",
       "      <td>Positive</td>\n",
       "      <td>Good Good flavor.</td>\n",
       "      <td>good good flavor</td>\n",
       "    </tr>\n",
       "    <tr>\n",
       "      <th>3</th>\n",
       "      <td>AV16khLE-jtxr-f38VFn</td>\n",
       "      <td>K-Y</td>\n",
       "      <td>Personal Care,Medicine Cabinet,Lubricant/Sperm...</td>\n",
       "      <td>K-Y</td>\n",
       "      <td>K-Y Love Sensuality Pleasure Gel</td>\n",
       "      <td>2016-01-06T00:00:00.000Z</td>\n",
       "      <td>False</td>\n",
       "      <td>False</td>\n",
       "      <td>1</td>\n",
       "      <td>I read through the reviews on here before look...</td>\n",
       "      <td>Disappointed</td>\n",
       "      <td>rebecca</td>\n",
       "      <td>Negative</td>\n",
       "      <td>Disappointed I read through the reviews on her...</td>\n",
       "      <td>disappoint read review look buy one couple lub...</td>\n",
       "    </tr>\n",
       "    <tr>\n",
       "      <th>4</th>\n",
       "      <td>AV16khLE-jtxr-f38VFn</td>\n",
       "      <td>K-Y</td>\n",
       "      <td>Personal Care,Medicine Cabinet,Lubricant/Sperm...</td>\n",
       "      <td>K-Y</td>\n",
       "      <td>K-Y Love Sensuality Pleasure Gel</td>\n",
       "      <td>2016-12-21T00:00:00.000Z</td>\n",
       "      <td>False</td>\n",
       "      <td>False</td>\n",
       "      <td>1</td>\n",
       "      <td>My husband bought this gel for us. The gel cau...</td>\n",
       "      <td>Irritation</td>\n",
       "      <td>walker557</td>\n",
       "      <td>Negative</td>\n",
       "      <td>Irritation My husband bought this gel for us. ...</td>\n",
       "      <td>irritation husband buy gel gel caused irritati...</td>\n",
       "    </tr>\n",
       "  </tbody>\n",
       "</table>\n",
       "</div>"
      ],
      "text/plain": [
       "                     id            brand  \\\n",
       "0  AV13O1A8GV-KLJ3akUyj  Universal Music   \n",
       "1  AV14LG0R-jtxr-f38QfS         Lundberg   \n",
       "2  AV14LG0R-jtxr-f38QfS         Lundberg   \n",
       "3  AV16khLE-jtxr-f38VFn              K-Y   \n",
       "4  AV16khLE-jtxr-f38VFn              K-Y   \n",
       "\n",
       "                                          categories  \\\n",
       "0  Movies, Music & Books,Music,R&b,Movies & TV,Mo...   \n",
       "1  Food,Packaged Foods,Snacks,Crackers,Snacks, Co...   \n",
       "2  Food,Packaged Foods,Snacks,Crackers,Snacks, Co...   \n",
       "3  Personal Care,Medicine Cabinet,Lubricant/Sperm...   \n",
       "4  Personal Care,Medicine Cabinet,Lubricant/Sperm...   \n",
       "\n",
       "                         manufacturer  \\\n",
       "0  Universal Music Group / Cash Money   \n",
       "1                            Lundberg   \n",
       "2                            Lundberg   \n",
       "3                                 K-Y   \n",
       "4                                 K-Y   \n",
       "\n",
       "                                         name              reviews_date  \\\n",
       "0   Pink Friday: Roman Reloaded Re-Up (w/dvd)  2012-11-30T06:21:45.000Z   \n",
       "1  Lundberg Organic Cinnamon Toast Rice Cakes  2017-07-09T00:00:00.000Z   \n",
       "2  Lundberg Organic Cinnamon Toast Rice Cakes  2017-07-09T00:00:00.000Z   \n",
       "3            K-Y Love Sensuality Pleasure Gel  2016-01-06T00:00:00.000Z   \n",
       "4            K-Y Love Sensuality Pleasure Gel  2016-12-21T00:00:00.000Z   \n",
       "\n",
       "  reviews_didPurchase reviews_doRecommend  reviews_rating  \\\n",
       "0                 NaN                 NaN               5   \n",
       "1                True                 NaN               5   \n",
       "2                True                 NaN               5   \n",
       "3               False               False               1   \n",
       "4               False               False               1   \n",
       "\n",
       "                                        reviews_text reviews_title  \\\n",
       "0  i love this album. it's very good. more to the...  Just Awesome   \n",
       "1  Good flavor. This review was collected as part...          Good   \n",
       "2                                       Good flavor.          Good   \n",
       "3  I read through the reviews on here before look...  Disappointed   \n",
       "4  My husband bought this gel for us. The gel cau...    Irritation   \n",
       "\n",
       "  reviews_username user_sentiment  \\\n",
       "0           joshua       Positive   \n",
       "1        dorothy w       Positive   \n",
       "2        dorothy w       Positive   \n",
       "3          rebecca       Negative   \n",
       "4        walker557       Negative   \n",
       "\n",
       "                                  reviews_title_text  \\\n",
       "0  Just Awesome i love this album. it's very good...   \n",
       "1  Good Good flavor. This review was collected as...   \n",
       "2                                  Good Good flavor.   \n",
       "3  Disappointed I read through the reviews on her...   \n",
       "4  Irritation My husband bought this gel for us. ...   \n",
       "\n",
       "                                       reviews_clean  \n",
       "0  awesome love album good hip hop side current p...  \n",
       "1     good good flavor review collect part promotion  \n",
       "2                                   good good flavor  \n",
       "3  disappoint read review look buy one couple lub...  \n",
       "4  irritation husband buy gel gel caused irritati...  "
      ]
     },
     "execution_count": 26,
     "metadata": {},
     "output_type": "execute_result"
    }
   ],
   "source": [
    "#From the null values percentages, columns reviews_userCity and reviews_userProvince can be dropped\n",
    "for_sentiment_analysis = for_sentiment_analysis.drop(columns=['reviews_userCity','reviews_userProvince'],axis=1)\n",
    "for_sentiment_analysis.head()"
   ]
  },
  {
   "cell_type": "code",
   "execution_count": 27,
   "id": "8e62ba71-e657-4df0-acbc-29cb0bc40e69",
   "metadata": {},
   "outputs": [
    {
     "data": {
      "text/plain": [
       "Positive    26632\n",
       "Negative     3367\n",
       "Name: user_sentiment, dtype: int64"
      ]
     },
     "execution_count": 27,
     "metadata": {},
     "output_type": "execute_result"
    }
   ],
   "source": [
    "# Before Updating the user sentiment columns\n",
    "for_sentiment_analysis['user_sentiment'].value_counts()"
   ]
  },
  {
   "cell_type": "code",
   "execution_count": 28,
   "id": "45042374-4fc7-40d0-8472-759efa8ff8fa",
   "metadata": {},
   "outputs": [],
   "source": [
    "# for correcting the user sentiment according to rating\n",
    "def review_sentiment_clear(x):\n",
    "  if x >= 3 :\n",
    "    return 'Postive'\n",
    "  elif x > 0 and x < 3  :\n",
    "    return 'Negative'"
   ]
  },
  {
   "cell_type": "code",
   "execution_count": 29,
   "id": "b6412c0f-f648-4a80-8a4a-7e449acc3274",
   "metadata": {},
   "outputs": [
    {
     "data": {
      "text/html": [
       "<div>\n",
       "<style scoped>\n",
       "    .dataframe tbody tr th:only-of-type {\n",
       "        vertical-align: middle;\n",
       "    }\n",
       "\n",
       "    .dataframe tbody tr th {\n",
       "        vertical-align: top;\n",
       "    }\n",
       "\n",
       "    .dataframe thead th {\n",
       "        text-align: right;\n",
       "    }\n",
       "</style>\n",
       "<table border=\"1\" class=\"dataframe\">\n",
       "  <thead>\n",
       "    <tr style=\"text-align: right;\">\n",
       "      <th></th>\n",
       "      <th>id</th>\n",
       "      <th>brand</th>\n",
       "      <th>categories</th>\n",
       "      <th>manufacturer</th>\n",
       "      <th>name</th>\n",
       "      <th>reviews_date</th>\n",
       "      <th>reviews_didPurchase</th>\n",
       "      <th>reviews_doRecommend</th>\n",
       "      <th>reviews_rating</th>\n",
       "      <th>reviews_text</th>\n",
       "      <th>reviews_title</th>\n",
       "      <th>reviews_username</th>\n",
       "      <th>user_sentiment</th>\n",
       "      <th>reviews_title_text</th>\n",
       "      <th>reviews_clean</th>\n",
       "    </tr>\n",
       "  </thead>\n",
       "  <tbody>\n",
       "    <tr>\n",
       "      <th>0</th>\n",
       "      <td>AV13O1A8GV-KLJ3akUyj</td>\n",
       "      <td>Universal Music</td>\n",
       "      <td>Movies, Music &amp; Books,Music,R&amp;b,Movies &amp; TV,Mo...</td>\n",
       "      <td>Universal Music Group / Cash Money</td>\n",
       "      <td>Pink Friday: Roman Reloaded Re-Up (w/dvd)</td>\n",
       "      <td>2012-11-30T06:21:45.000Z</td>\n",
       "      <td>NaN</td>\n",
       "      <td>NaN</td>\n",
       "      <td>5</td>\n",
       "      <td>i love this album. it's very good. more to the...</td>\n",
       "      <td>Just Awesome</td>\n",
       "      <td>joshua</td>\n",
       "      <td>Postive</td>\n",
       "      <td>Just Awesome i love this album. it's very good...</td>\n",
       "      <td>awesome love album good hip hop side current p...</td>\n",
       "    </tr>\n",
       "    <tr>\n",
       "      <th>1</th>\n",
       "      <td>AV14LG0R-jtxr-f38QfS</td>\n",
       "      <td>Lundberg</td>\n",
       "      <td>Food,Packaged Foods,Snacks,Crackers,Snacks, Co...</td>\n",
       "      <td>Lundberg</td>\n",
       "      <td>Lundberg Organic Cinnamon Toast Rice Cakes</td>\n",
       "      <td>2017-07-09T00:00:00.000Z</td>\n",
       "      <td>True</td>\n",
       "      <td>NaN</td>\n",
       "      <td>5</td>\n",
       "      <td>Good flavor. This review was collected as part...</td>\n",
       "      <td>Good</td>\n",
       "      <td>dorothy w</td>\n",
       "      <td>Postive</td>\n",
       "      <td>Good Good flavor. This review was collected as...</td>\n",
       "      <td>good good flavor review collect part promotion</td>\n",
       "    </tr>\n",
       "    <tr>\n",
       "      <th>2</th>\n",
       "      <td>AV14LG0R-jtxr-f38QfS</td>\n",
       "      <td>Lundberg</td>\n",
       "      <td>Food,Packaged Foods,Snacks,Crackers,Snacks, Co...</td>\n",
       "      <td>Lundberg</td>\n",
       "      <td>Lundberg Organic Cinnamon Toast Rice Cakes</td>\n",
       "      <td>2017-07-09T00:00:00.000Z</td>\n",
       "      <td>True</td>\n",
       "      <td>NaN</td>\n",
       "      <td>5</td>\n",
       "      <td>Good flavor.</td>\n",
       "      <td>Good</td>\n",
       "      <td>dorothy w</td>\n",
       "      <td>Postive</td>\n",
       "      <td>Good Good flavor.</td>\n",
       "      <td>good good flavor</td>\n",
       "    </tr>\n",
       "    <tr>\n",
       "      <th>3</th>\n",
       "      <td>AV16khLE-jtxr-f38VFn</td>\n",
       "      <td>K-Y</td>\n",
       "      <td>Personal Care,Medicine Cabinet,Lubricant/Sperm...</td>\n",
       "      <td>K-Y</td>\n",
       "      <td>K-Y Love Sensuality Pleasure Gel</td>\n",
       "      <td>2016-01-06T00:00:00.000Z</td>\n",
       "      <td>False</td>\n",
       "      <td>False</td>\n",
       "      <td>1</td>\n",
       "      <td>I read through the reviews on here before look...</td>\n",
       "      <td>Disappointed</td>\n",
       "      <td>rebecca</td>\n",
       "      <td>Negative</td>\n",
       "      <td>Disappointed I read through the reviews on her...</td>\n",
       "      <td>disappoint read review look buy one couple lub...</td>\n",
       "    </tr>\n",
       "    <tr>\n",
       "      <th>4</th>\n",
       "      <td>AV16khLE-jtxr-f38VFn</td>\n",
       "      <td>K-Y</td>\n",
       "      <td>Personal Care,Medicine Cabinet,Lubricant/Sperm...</td>\n",
       "      <td>K-Y</td>\n",
       "      <td>K-Y Love Sensuality Pleasure Gel</td>\n",
       "      <td>2016-12-21T00:00:00.000Z</td>\n",
       "      <td>False</td>\n",
       "      <td>False</td>\n",
       "      <td>1</td>\n",
       "      <td>My husband bought this gel for us. The gel cau...</td>\n",
       "      <td>Irritation</td>\n",
       "      <td>walker557</td>\n",
       "      <td>Negative</td>\n",
       "      <td>Irritation My husband bought this gel for us. ...</td>\n",
       "      <td>irritation husband buy gel gel caused irritati...</td>\n",
       "    </tr>\n",
       "  </tbody>\n",
       "</table>\n",
       "</div>"
      ],
      "text/plain": [
       "                     id            brand  \\\n",
       "0  AV13O1A8GV-KLJ3akUyj  Universal Music   \n",
       "1  AV14LG0R-jtxr-f38QfS         Lundberg   \n",
       "2  AV14LG0R-jtxr-f38QfS         Lundberg   \n",
       "3  AV16khLE-jtxr-f38VFn              K-Y   \n",
       "4  AV16khLE-jtxr-f38VFn              K-Y   \n",
       "\n",
       "                                          categories  \\\n",
       "0  Movies, Music & Books,Music,R&b,Movies & TV,Mo...   \n",
       "1  Food,Packaged Foods,Snacks,Crackers,Snacks, Co...   \n",
       "2  Food,Packaged Foods,Snacks,Crackers,Snacks, Co...   \n",
       "3  Personal Care,Medicine Cabinet,Lubricant/Sperm...   \n",
       "4  Personal Care,Medicine Cabinet,Lubricant/Sperm...   \n",
       "\n",
       "                         manufacturer  \\\n",
       "0  Universal Music Group / Cash Money   \n",
       "1                            Lundberg   \n",
       "2                            Lundberg   \n",
       "3                                 K-Y   \n",
       "4                                 K-Y   \n",
       "\n",
       "                                         name              reviews_date  \\\n",
       "0   Pink Friday: Roman Reloaded Re-Up (w/dvd)  2012-11-30T06:21:45.000Z   \n",
       "1  Lundberg Organic Cinnamon Toast Rice Cakes  2017-07-09T00:00:00.000Z   \n",
       "2  Lundberg Organic Cinnamon Toast Rice Cakes  2017-07-09T00:00:00.000Z   \n",
       "3            K-Y Love Sensuality Pleasure Gel  2016-01-06T00:00:00.000Z   \n",
       "4            K-Y Love Sensuality Pleasure Gel  2016-12-21T00:00:00.000Z   \n",
       "\n",
       "  reviews_didPurchase reviews_doRecommend  reviews_rating  \\\n",
       "0                 NaN                 NaN               5   \n",
       "1                True                 NaN               5   \n",
       "2                True                 NaN               5   \n",
       "3               False               False               1   \n",
       "4               False               False               1   \n",
       "\n",
       "                                        reviews_text reviews_title  \\\n",
       "0  i love this album. it's very good. more to the...  Just Awesome   \n",
       "1  Good flavor. This review was collected as part...          Good   \n",
       "2                                       Good flavor.          Good   \n",
       "3  I read through the reviews on here before look...  Disappointed   \n",
       "4  My husband bought this gel for us. The gel cau...    Irritation   \n",
       "\n",
       "  reviews_username user_sentiment  \\\n",
       "0           joshua        Postive   \n",
       "1        dorothy w        Postive   \n",
       "2        dorothy w        Postive   \n",
       "3          rebecca       Negative   \n",
       "4        walker557       Negative   \n",
       "\n",
       "                                  reviews_title_text  \\\n",
       "0  Just Awesome i love this album. it's very good...   \n",
       "1  Good Good flavor. This review was collected as...   \n",
       "2                                  Good Good flavor.   \n",
       "3  Disappointed I read through the reviews on her...   \n",
       "4  Irritation My husband bought this gel for us. ...   \n",
       "\n",
       "                                       reviews_clean  \n",
       "0  awesome love album good hip hop side current p...  \n",
       "1     good good flavor review collect part promotion  \n",
       "2                                   good good flavor  \n",
       "3  disappoint read review look buy one couple lub...  \n",
       "4  irritation husband buy gel gel caused irritati...  "
      ]
     },
     "execution_count": 29,
     "metadata": {},
     "output_type": "execute_result"
    }
   ],
   "source": [
    "for_sentiment_analysis['user_sentiment'] = for_sentiment_analysis['reviews_rating'].apply(review_sentiment_clear)\n",
    "for_sentiment_analysis.head()"
   ]
  },
  {
   "cell_type": "code",
   "execution_count": 30,
   "id": "1018cf92-7064-4301-ad5c-85401f73ac09",
   "metadata": {},
   "outputs": [
    {
     "data": {
      "text/plain": [
       "Postive     28195\n",
       "Negative     1804\n",
       "Name: user_sentiment, dtype: int64"
      ]
     },
     "execution_count": 30,
     "metadata": {},
     "output_type": "execute_result"
    }
   ],
   "source": [
    "# Before Updating the user sentiment columns\n",
    "for_sentiment_analysis['user_sentiment'].value_counts()"
   ]
  },
  {
   "cell_type": "code",
   "execution_count": 31,
   "id": "dd27d980-4247-4c63-8c0c-44b345ca9d61",
   "metadata": {},
   "outputs": [
    {
     "name": "stderr",
     "output_type": "stream",
     "text": [
      "[nltk_data] Downloading package punkt to /home/nltk_data...\n",
      "[nltk_data]   Package punkt is already up-to-date!\n",
      "[nltk_data] Downloading package stopwords to /home/nltk_data...\n",
      "[nltk_data]   Package stopwords is already up-to-date!\n",
      "[nltk_data] Downloading package wordnet to /home/nltk_data...\n",
      "[nltk_data]   Package wordnet is already up-to-date!\n",
      "[nltk_data] Downloading package omw-1.4 to /home/nltk_data...\n",
      "[nltk_data]   Package omw-1.4 is already up-to-date!\n"
     ]
    }
   ],
   "source": [
    "#Common functions for cleaning the text data\n",
    "import nltk\n",
    "from nltk.stem import LancasterStemmer\n",
    "from nltk.stem import WordNetLemmatizer\n",
    "nltk.download('punkt')\n",
    "nltk.download('stopwords')\n",
    "nltk.download('wordnet')\n",
    "nltk.download('omw-1.4')\n",
    "from nltk.corpus import stopwords\n",
    "import unicodedata\n",
    "from nltk.stem import WordNetLemmatizer\n",
    "from nltk.tokenize import word_tokenize, sent_tokenize, regexp_tokenize\n",
    "from nltk.stem import PorterStemmer, WordNetLemmatizer\n",
    "import re\n",
    "import html\n",
    "\n",
    "# special_characters removal\n",
    "def remove_special_characters(text, remove_digits=True):\n",
    "    \"\"\"Remove the special Characters\"\"\"\n",
    "    pattern = r'[^a-zA-z0-9\\s]' if not remove_digits else r'[^a-zA-z\\s]'\n",
    "    text = re.sub(pattern, '', text)\n",
    "    return text\n",
    "\n",
    "def to_lowercase(words):\n",
    "    \"\"\"Convert all characters to lowercase from list of tokenized words\"\"\"\n",
    "    new_words = []\n",
    "    for word in words:\n",
    "        new_word = word.lower()\n",
    "        new_words.append(new_word)\n",
    "    return new_words\n",
    "\n",
    "def remove_punctuation_and_splchars(words):\n",
    "    \"\"\"Remove punctuation from list of tokenized words\"\"\"\n",
    "    new_words = []\n",
    "    for word in words:\n",
    "        new_word = re.sub(r'[^\\w\\s]', '', word)\n",
    "        if new_word != '':\n",
    "            new_word = remove_special_characters(new_word, True)\n",
    "            new_words.append(new_word)\n",
    "    return new_words\n",
    "\n",
    "stopword_list= stopwords.words('english')\n",
    "\n",
    "def remove_stopwords(words):\n",
    "    \"\"\"Remove stop words from list of tokenized words\"\"\"\n",
    "    new_words = []\n",
    "    for word in words:\n",
    "        if word not in stopword_list:\n",
    "            new_words.append(word)\n",
    "    return new_words\n",
    "\n",
    "def stem_words(words):\n",
    "    \"\"\"Stem words in list of tokenized words\"\"\"\n",
    "    stemmer = LancasterStemmer()\n",
    "    stems = []\n",
    "    for word in words:\n",
    "        stem = stemmer.stem(word)\n",
    "        stems.append(stem)\n",
    "    return stems\n",
    "\n",
    "def lemmatize_verbs(words):\n",
    "    \"\"\"Lemmatize verbs in list of tokenized words\"\"\"\n",
    "    lemmatizer = WordNetLemmatizer()\n",
    "    lemmas = []\n",
    "    for word in words:\n",
    "        lemma = lemmatizer.lemmatize(word, pos='v')\n",
    "        lemmas.append(lemma)\n",
    "    return lemmas\n",
    "\n",
    "def normalize(words):\n",
    "    words = to_lowercase(words)\n",
    "    words = remove_punctuation_and_splchars(words)\n",
    "    words = remove_stopwords(words)\n",
    "    return words\n",
    "\n",
    "def lemmatize(words):\n",
    "    lemmas = lemmatize_verbs(words)\n",
    "    return lemmas"
   ]
  },
  {
   "cell_type": "code",
   "execution_count": 32,
   "id": "72ed9f74-a9bb-4d7f-95a9-cc6194c902ce",
   "metadata": {},
   "outputs": [],
   "source": [
    "def normalize_and_lemmaize(input_text):\n",
    "    input_text = remove_special_characters(input_text)\n",
    "    words = nltk.word_tokenize(input_text)\n",
    "    words = normalize(words)\n",
    "    lemmas = lemmatize(words)\n",
    "    return ' '.join(lemmas)"
   ]
  },
  {
   "cell_type": "code",
   "execution_count": 33,
   "id": "38789ebf-eaea-4edd-80e7-164c993f53e8",
   "metadata": {},
   "outputs": [
    {
     "data": {
      "text/html": [
       "<div>\n",
       "<style scoped>\n",
       "    .dataframe tbody tr th:only-of-type {\n",
       "        vertical-align: middle;\n",
       "    }\n",
       "\n",
       "    .dataframe tbody tr th {\n",
       "        vertical-align: top;\n",
       "    }\n",
       "\n",
       "    .dataframe thead th {\n",
       "        text-align: right;\n",
       "    }\n",
       "</style>\n",
       "<table border=\"1\" class=\"dataframe\">\n",
       "  <thead>\n",
       "    <tr style=\"text-align: right;\">\n",
       "      <th></th>\n",
       "      <th>reviews_clean</th>\n",
       "      <th>user_sentiment</th>\n",
       "    </tr>\n",
       "  </thead>\n",
       "  <tbody>\n",
       "    <tr>\n",
       "      <th>0</th>\n",
       "      <td>awesome love album good hip hop side current p...</td>\n",
       "      <td>Postive</td>\n",
       "    </tr>\n",
       "    <tr>\n",
       "      <th>1</th>\n",
       "      <td>good good flavor review collect part promotion</td>\n",
       "      <td>Postive</td>\n",
       "    </tr>\n",
       "    <tr>\n",
       "      <th>2</th>\n",
       "      <td>good good flavor</td>\n",
       "      <td>Postive</td>\n",
       "    </tr>\n",
       "    <tr>\n",
       "      <th>3</th>\n",
       "      <td>disappoint read review look buy one couple lub...</td>\n",
       "      <td>Negative</td>\n",
       "    </tr>\n",
       "    <tr>\n",
       "      <th>4</th>\n",
       "      <td>irritation husband buy gel gel caused irritati...</td>\n",
       "      <td>Negative</td>\n",
       "    </tr>\n",
       "  </tbody>\n",
       "</table>\n",
       "</div>"
      ],
      "text/plain": [
       "                                       reviews_clean user_sentiment\n",
       "0  awesome love album good hip hop side current p...        Postive\n",
       "1     good good flavor review collect part promotion        Postive\n",
       "2                                   good good flavor        Postive\n",
       "3  disappoint read review look buy one couple lub...       Negative\n",
       "4  irritation husband buy gel gel caused irritati...       Negative"
      ]
     },
     "execution_count": 33,
     "metadata": {},
     "output_type": "execute_result"
    }
   ],
   "source": [
    "# Take the Review comment and user sentiment as dataframe\n",
    "review_df = for_sentiment_analysis[['reviews_clean','user_sentiment']]\n",
    "review_df.head()"
   ]
  },
  {
   "cell_type": "code",
   "execution_count": 34,
   "id": "fc74d5ff-3258-4e76-bb37-5384a0c2863b",
   "metadata": {},
   "outputs": [
    {
     "name": "stderr",
     "output_type": "stream",
     "text": [
      "/tmp/ipykernel_1780/586296508.py:2: SettingWithCopyWarning: \n",
      "A value is trying to be set on a copy of a slice from a DataFrame.\n",
      "Try using .loc[row_indexer,col_indexer] = value instead\n",
      "\n",
      "See the caveats in the documentation: https://pandas.pydata.org/pandas-docs/stable/user_guide/indexing.html#returning-a-view-versus-a-copy\n",
      "  review_df['lemmatized_text'] = review_df['reviews_clean'].map(lambda text: normalize_and_lemmaize(text))\n"
     ]
    },
    {
     "data": {
      "text/html": [
       "<div>\n",
       "<style scoped>\n",
       "    .dataframe tbody tr th:only-of-type {\n",
       "        vertical-align: middle;\n",
       "    }\n",
       "\n",
       "    .dataframe tbody tr th {\n",
       "        vertical-align: top;\n",
       "    }\n",
       "\n",
       "    .dataframe thead th {\n",
       "        text-align: right;\n",
       "    }\n",
       "</style>\n",
       "<table border=\"1\" class=\"dataframe\">\n",
       "  <thead>\n",
       "    <tr style=\"text-align: right;\">\n",
       "      <th></th>\n",
       "      <th>reviews_clean</th>\n",
       "      <th>user_sentiment</th>\n",
       "      <th>lemmatized_text</th>\n",
       "    </tr>\n",
       "  </thead>\n",
       "  <tbody>\n",
       "    <tr>\n",
       "      <th>0</th>\n",
       "      <td>awesome love album good hip hop side current p...</td>\n",
       "      <td>Postive</td>\n",
       "      <td>awesome love album good hip hop side current p...</td>\n",
       "    </tr>\n",
       "    <tr>\n",
       "      <th>1</th>\n",
       "      <td>good good flavor review collect part promotion</td>\n",
       "      <td>Postive</td>\n",
       "      <td>good good flavor review collect part promotion</td>\n",
       "    </tr>\n",
       "    <tr>\n",
       "      <th>2</th>\n",
       "      <td>good good flavor</td>\n",
       "      <td>Postive</td>\n",
       "      <td>good good flavor</td>\n",
       "    </tr>\n",
       "    <tr>\n",
       "      <th>3</th>\n",
       "      <td>disappoint read review look buy one couple lub...</td>\n",
       "      <td>Negative</td>\n",
       "      <td>disappoint read review look buy one couple lub...</td>\n",
       "    </tr>\n",
       "    <tr>\n",
       "      <th>4</th>\n",
       "      <td>irritation husband buy gel gel caused irritati...</td>\n",
       "      <td>Negative</td>\n",
       "      <td>irritation husband buy gel gel cause irritatio...</td>\n",
       "    </tr>\n",
       "  </tbody>\n",
       "</table>\n",
       "</div>"
      ],
      "text/plain": [
       "                                       reviews_clean user_sentiment  \\\n",
       "0  awesome love album good hip hop side current p...        Postive   \n",
       "1     good good flavor review collect part promotion        Postive   \n",
       "2                                   good good flavor        Postive   \n",
       "3  disappoint read review look buy one couple lub...       Negative   \n",
       "4  irritation husband buy gel gel caused irritati...       Negative   \n",
       "\n",
       "                                     lemmatized_text  \n",
       "0  awesome love album good hip hop side current p...  \n",
       "1     good good flavor review collect part promotion  \n",
       "2                                   good good flavor  \n",
       "3  disappoint read review look buy one couple lub...  \n",
       "4  irritation husband buy gel gel cause irritatio...  "
      ]
     },
     "execution_count": 34,
     "metadata": {},
     "output_type": "execute_result"
    }
   ],
   "source": [
    "# create a new column lemmatized_review using the emmatize_text function\n",
    "review_df['lemmatized_text'] = review_df['reviews_clean'].map(lambda text: normalize_and_lemmaize(text))\n",
    "review_df.head()"
   ]
  },
  {
   "cell_type": "code",
   "execution_count": 35,
   "id": "c49e8ff2-9407-442e-994c-4ac451db14e4",
   "metadata": {},
   "outputs": [],
   "source": [
    "from collections import Counter\n",
    "from imblearn.over_sampling import SMOTE"
   ]
  },
  {
   "cell_type": "code",
   "execution_count": 36,
   "id": "c936a7d2-3cf2-456e-bdae-a8c0f8300756",
   "metadata": {},
   "outputs": [
    {
     "data": {
      "text/html": [
       "<div>\n",
       "<style scoped>\n",
       "    .dataframe tbody tr th:only-of-type {\n",
       "        vertical-align: middle;\n",
       "    }\n",
       "\n",
       "    .dataframe tbody tr th {\n",
       "        vertical-align: top;\n",
       "    }\n",
       "\n",
       "    .dataframe thead th {\n",
       "        text-align: right;\n",
       "    }\n",
       "</style>\n",
       "<table border=\"1\" class=\"dataframe\">\n",
       "  <thead>\n",
       "    <tr style=\"text-align: right;\">\n",
       "      <th></th>\n",
       "      <th>lemmatized_text</th>\n",
       "      <th>user_sentiment</th>\n",
       "    </tr>\n",
       "  </thead>\n",
       "  <tbody>\n",
       "    <tr>\n",
       "      <th>0</th>\n",
       "      <td>awesome love album good hip hop side current p...</td>\n",
       "      <td>Postive</td>\n",
       "    </tr>\n",
       "    <tr>\n",
       "      <th>1</th>\n",
       "      <td>good good flavor review collect part promotion</td>\n",
       "      <td>Postive</td>\n",
       "    </tr>\n",
       "    <tr>\n",
       "      <th>2</th>\n",
       "      <td>good good flavor</td>\n",
       "      <td>Postive</td>\n",
       "    </tr>\n",
       "    <tr>\n",
       "      <th>3</th>\n",
       "      <td>disappoint read review look buy one couple lub...</td>\n",
       "      <td>Negative</td>\n",
       "    </tr>\n",
       "    <tr>\n",
       "      <th>4</th>\n",
       "      <td>irritation husband buy gel gel cause irritatio...</td>\n",
       "      <td>Negative</td>\n",
       "    </tr>\n",
       "    <tr>\n",
       "      <th>...</th>\n",
       "      <td>...</td>\n",
       "      <td>...</td>\n",
       "    </tr>\n",
       "    <tr>\n",
       "      <th>29995</th>\n",
       "      <td>softness get conditioner influenster try im lo...</td>\n",
       "      <td>Postive</td>\n",
       "    </tr>\n",
       "    <tr>\n",
       "      <th>29996</th>\n",
       "      <td>love love receive review purpose influenster l...</td>\n",
       "      <td>Postive</td>\n",
       "    </tr>\n",
       "    <tr>\n",
       "      <th>29997</th>\n",
       "      <td>hair smooth use first love smell product wash ...</td>\n",
       "      <td>Postive</td>\n",
       "    </tr>\n",
       "    <tr>\n",
       "      <th>29998</th>\n",
       "      <td>perfect oily hair receive influenster never go...</td>\n",
       "      <td>Postive</td>\n",
       "    </tr>\n",
       "    <tr>\n",
       "      <th>29999</th>\n",
       "      <td>condition healthy receive product complimentar...</td>\n",
       "      <td>Postive</td>\n",
       "    </tr>\n",
       "  </tbody>\n",
       "</table>\n",
       "<p>29999 rows × 2 columns</p>\n",
       "</div>"
      ],
      "text/plain": [
       "                                         lemmatized_text user_sentiment\n",
       "0      awesome love album good hip hop side current p...        Postive\n",
       "1         good good flavor review collect part promotion        Postive\n",
       "2                                       good good flavor        Postive\n",
       "3      disappoint read review look buy one couple lub...       Negative\n",
       "4      irritation husband buy gel gel cause irritatio...       Negative\n",
       "...                                                  ...            ...\n",
       "29995  softness get conditioner influenster try im lo...        Postive\n",
       "29996  love love receive review purpose influenster l...        Postive\n",
       "29997  hair smooth use first love smell product wash ...        Postive\n",
       "29998  perfect oily hair receive influenster never go...        Postive\n",
       "29999  condition healthy receive product complimentar...        Postive\n",
       "\n",
       "[29999 rows x 2 columns]"
      ]
     },
     "execution_count": 36,
     "metadata": {},
     "output_type": "execute_result"
    }
   ],
   "source": [
    "# new dataframe with lemmatized text and user sentiment\n",
    "review_new_df = review_df[['lemmatized_text','user_sentiment']]\n",
    "review_new_df"
   ]
  },
  {
   "cell_type": "code",
   "execution_count": 37,
   "id": "1b66f3ef-36b2-4022-99aa-8e24cbee1a4d",
   "metadata": {},
   "outputs": [
    {
     "name": "stderr",
     "output_type": "stream",
     "text": [
      "/tmp/ipykernel_1780/545805414.py:2: SettingWithCopyWarning: \n",
      "A value is trying to be set on a copy of a slice from a DataFrame.\n",
      "Try using .loc[row_indexer,col_indexer] = value instead\n",
      "\n",
      "See the caveats in the documentation: https://pandas.pydata.org/pandas-docs/stable/user_guide/indexing.html#returning-a-view-versus-a-copy\n",
      "  review_new_df['user_sentiment'] = review_new_df['user_sentiment'].map({'Negative':0,'Postive':1})\n"
     ]
    },
    {
     "data": {
      "text/html": [
       "<div>\n",
       "<style scoped>\n",
       "    .dataframe tbody tr th:only-of-type {\n",
       "        vertical-align: middle;\n",
       "    }\n",
       "\n",
       "    .dataframe tbody tr th {\n",
       "        vertical-align: top;\n",
       "    }\n",
       "\n",
       "    .dataframe thead th {\n",
       "        text-align: right;\n",
       "    }\n",
       "</style>\n",
       "<table border=\"1\" class=\"dataframe\">\n",
       "  <thead>\n",
       "    <tr style=\"text-align: right;\">\n",
       "      <th></th>\n",
       "      <th>lemmatized_text</th>\n",
       "      <th>user_sentiment</th>\n",
       "    </tr>\n",
       "  </thead>\n",
       "  <tbody>\n",
       "    <tr>\n",
       "      <th>0</th>\n",
       "      <td>awesome love album good hip hop side current p...</td>\n",
       "      <td>1</td>\n",
       "    </tr>\n",
       "    <tr>\n",
       "      <th>1</th>\n",
       "      <td>good good flavor review collect part promotion</td>\n",
       "      <td>1</td>\n",
       "    </tr>\n",
       "    <tr>\n",
       "      <th>2</th>\n",
       "      <td>good good flavor</td>\n",
       "      <td>1</td>\n",
       "    </tr>\n",
       "    <tr>\n",
       "      <th>3</th>\n",
       "      <td>disappoint read review look buy one couple lub...</td>\n",
       "      <td>0</td>\n",
       "    </tr>\n",
       "    <tr>\n",
       "      <th>4</th>\n",
       "      <td>irritation husband buy gel gel cause irritatio...</td>\n",
       "      <td>0</td>\n",
       "    </tr>\n",
       "  </tbody>\n",
       "</table>\n",
       "</div>"
      ],
      "text/plain": [
       "                                     lemmatized_text  user_sentiment\n",
       "0  awesome love album good hip hop side current p...               1\n",
       "1     good good flavor review collect part promotion               1\n",
       "2                                   good good flavor               1\n",
       "3  disappoint read review look buy one couple lub...               0\n",
       "4  irritation husband buy gel gel cause irritatio...               0"
      ]
     },
     "execution_count": 37,
     "metadata": {},
     "output_type": "execute_result"
    }
   ],
   "source": [
    "#Encode the negative and postive to 0 and 1 respectively\n",
    "review_new_df['user_sentiment'] = review_new_df['user_sentiment'].map({'Negative':0,'Postive':1})\n",
    "review_new_df.head()"
   ]
  },
  {
   "cell_type": "code",
   "execution_count": 38,
   "id": "bb10dfaa-e223-4550-ba35-ab8973b5b3e8",
   "metadata": {},
   "outputs": [
    {
     "data": {
      "text/plain": [
       "1    21146\n",
       "0     1353\n",
       "Name: user_sentiment, dtype: int64"
      ]
     },
     "execution_count": 38,
     "metadata": {},
     "output_type": "execute_result"
    }
   ],
   "source": [
    "# Train and Test Divide\n",
    "x_train,x_test,y_train,y_test = train_test_split(review_new_df['lemmatized_text'],review_new_df['user_sentiment'],train_size=0.75,random_state=45,stratify=review_new_df['user_sentiment'])\n",
    "y_train.value_counts()"
   ]
  },
  {
   "cell_type": "code",
   "execution_count": 39,
   "id": "524bbc6a-243a-4190-a649-85bac82e1f79",
   "metadata": {},
   "outputs": [],
   "source": [
    "## 4. Feature Extraction using Count Vectorizer and TFIDF Transformer"
   ]
  },
  {
   "cell_type": "code",
   "execution_count": 40,
   "id": "669ce63e-c056-4b17-9127-995fbae81d36",
   "metadata": {},
   "outputs": [
    {
     "data": {
      "text/plain": [
       "(22499, 14917)"
      ]
     },
     "execution_count": 40,
     "metadata": {},
     "output_type": "execute_result"
    }
   ],
   "source": [
    "from sklearn.feature_extraction.text import TfidfTransformer\n",
    "from sklearn.feature_extraction.text import TfidfVectorizer\n",
    "from sklearn.feature_extraction.text import CountVectorizer, TfidfVectorizer\n",
    "count_vect = CountVectorizer()\n",
    "x_count = count_vect.fit_transform(x_train)\n",
    "\n",
    "\n",
    "tfidf_transformer = TfidfTransformer()\n",
    "x_train_transformed = tfidf_transformer.fit_transform(x_count)\n",
    "x_train_transformed.shape\n",
    "\n"
   ]
  },
  {
   "cell_type": "code",
   "execution_count": 41,
   "id": "1a65d8e3-dc29-45e5-9808-1169f502cd8b",
   "metadata": {},
   "outputs": [],
   "source": [
    "#creating the pickle for countvectorizer and TFIDF Transformer\n",
    "import pickle\n",
    "pickle.dump(count_vect,open('count_vector.pkl','wb'))\n",
    "pickle.dump(tfidf_transformer,open('tfidf_transformer.pkl','wb'))\n"
   ]
  },
  {
   "cell_type": "code",
   "execution_count": 42,
   "id": "78194740-2c3d-4453-8612-c18453b89961",
   "metadata": {},
   "outputs": [
    {
     "name": "stdout",
     "output_type": "stream",
     "text": [
      "Before sampling : Counter({1: 21146, 0: 1353})\n",
      "After sampling : Counter({1: 21146, 0: 21146})\n"
     ]
    }
   ],
   "source": [
    "count = Counter(y_train)\n",
    "print('Before sampling :',count)\n",
    "\n",
    "sampler = SMOTE()\n",
    "\n",
    "x_train_sm,y_train_sm = sampler.fit_resample(x_train_transformed,y_train)\n",
    "\n",
    "count = Counter(y_train_sm)\n",
    "print('After sampling :',count)"
   ]
  },
  {
   "cell_type": "code",
   "execution_count": 43,
   "id": "3d763516-0b68-4ead-ad0f-a7cfe0cad2f9",
   "metadata": {},
   "outputs": [],
   "source": [
    "## 5. Training text classification model\n",
    "#Logistic Regression\n",
    "#Random Forest Classifer\n",
    "#XGBoost"
   ]
  },
  {
   "cell_type": "code",
   "execution_count": 44,
   "id": "12d74625-0646-4ca7-b0dc-d34eff8121cf",
   "metadata": {},
   "outputs": [],
   "source": [
    "# Function for Metrics\n",
    "from sklearn.metrics import classification_report,roc_auc_score,confusion_matrix,f1_score,precision_score,accuracy_score\n",
    "performance=[]\n",
    "\n",
    "def model_metrics(y,y_pred,model_name,metrics):\n",
    "  Accuracy = accuracy_score(y,y_pred)\n",
    "  roc = roc_auc_score(y,y_pred)\n",
    "  confusion = confusion_matrix(y,y_pred)\n",
    "  precision = precision_score(y,y_pred)\n",
    "  f1 = f1_score(y,y_pred)\n",
    "  TP = confusion[1,1]  # true positive\n",
    "  TN = confusion[0,0]  # true negatives\n",
    "  FP = confusion[0,1]  # false positives\n",
    "  FN = confusion[1,0]  # false negatives\n",
    "  sensitivity= TP / float(TP+FN)\n",
    "  specificity = TN / float(TN+FP)\n",
    "\n",
    "  print(\"*\"*50)\n",
    "  print('Confusion Matrix =')\n",
    "  print(confusion)\n",
    "  print(\"sensitivity of the %s = %f\" % (model_name,round(sensitivity,2)))\n",
    "  print(\"specificity of the %s = %f\" % (model_name,round(specificity,2)))\n",
    "  print(\"Accuracy Score of %s = %f\" % (model_name,Accuracy))\n",
    "  print('ROC AUC score of %s = %f' % (model_name,roc))\n",
    "  print(\"Report=\",)\n",
    "  print(classification_report(y,y_pred))\n",
    "  print(\"*\"*50)\n",
    "  metrics.append(dict({'Model_name':model_name,\n",
    "                       'Accuracy':Accuracy,\n",
    "                       'Roc_auc_score':roc,\n",
    "                       'Precision':precision,\n",
    "                       'F1_score':f1}))\n",
    "  return metrics"
   ]
  },
  {
   "cell_type": "code",
   "execution_count": 45,
   "id": "696cd90c-1f2d-41c5-b313-193717f912b9",
   "metadata": {},
   "outputs": [
    {
     "data": {
      "text/plain": [
       "LogisticRegression()"
      ]
     },
     "execution_count": 45,
     "metadata": {},
     "output_type": "execute_result"
    }
   ],
   "source": [
    "# 1. Logsitic Regression\n",
    "lr = LogisticRegression()\n",
    "lr.fit(x_train_sm,y_train_sm)"
   ]
  },
  {
   "cell_type": "code",
   "execution_count": 46,
   "id": "ef80661d-0cf4-4b06-8206-79f96e175866",
   "metadata": {},
   "outputs": [
    {
     "name": "stdout",
     "output_type": "stream",
     "text": [
      "**************************************************\n",
      "Confusion Matrix =\n",
      "[[20871   275]\n",
      " [  577 20569]]\n",
      "sensitivity of the Logistic Regression = 0.970000\n",
      "specificity of the Logistic Regression = 0.990000\n",
      "Accuracy Score of Logistic Regression = 0.979854\n",
      "ROC AUC score of Logistic Regression = 0.979854\n",
      "Report=\n",
      "              precision    recall  f1-score   support\n",
      "\n",
      "           0       0.97      0.99      0.98     21146\n",
      "           1       0.99      0.97      0.98     21146\n",
      "\n",
      "    accuracy                           0.98     42292\n",
      "   macro avg       0.98      0.98      0.98     42292\n",
      "weighted avg       0.98      0.98      0.98     42292\n",
      "\n",
      "**************************************************\n"
     ]
    }
   ],
   "source": [
    "y_pred = lr.predict(x_train_sm)\n",
    "peformance = model_metrics(y_train_sm,y_pred,'Logistic Regression',performance)"
   ]
  },
  {
   "cell_type": "code",
   "execution_count": 47,
   "id": "c40378fa-d7e9-4ea1-be6f-611d86870d0a",
   "metadata": {},
   "outputs": [
    {
     "data": {
      "text/plain": [
       "RandomForestClassifier()"
      ]
     },
     "execution_count": 47,
     "metadata": {},
     "output_type": "execute_result"
    }
   ],
   "source": [
    "# 2. RandomForest Classifier\n",
    "rf = RandomForestClassifier()\n",
    "rf.fit(x_train_sm,y_train_sm)"
   ]
  },
  {
   "cell_type": "code",
   "execution_count": 48,
   "id": "81a824a4-e375-47a5-afef-3ac59993f0ce",
   "metadata": {},
   "outputs": [
    {
     "name": "stdout",
     "output_type": "stream",
     "text": [
      "**************************************************\n",
      "Confusion Matrix =\n",
      "[[21145     1]\n",
      " [    2 21144]]\n",
      "sensitivity of the RandomForestClassifier = 1.000000\n",
      "specificity of the RandomForestClassifier = 1.000000\n",
      "Accuracy Score of RandomForestClassifier = 0.999929\n",
      "ROC AUC score of RandomForestClassifier = 0.999929\n",
      "Report=\n",
      "              precision    recall  f1-score   support\n",
      "\n",
      "           0       1.00      1.00      1.00     21146\n",
      "           1       1.00      1.00      1.00     21146\n",
      "\n",
      "    accuracy                           1.00     42292\n",
      "   macro avg       1.00      1.00      1.00     42292\n",
      "weighted avg       1.00      1.00      1.00     42292\n",
      "\n",
      "**************************************************\n"
     ]
    }
   ],
   "source": [
    "y_pred_rf = rf.predict(x_train_sm)\n",
    "performance = model_metrics(y_train_sm,y_pred_rf,'RandomForestClassifier',performance)"
   ]
  },
  {
   "cell_type": "code",
   "execution_count": 49,
   "id": "e230cb89-6d26-499f-bcb0-584e4f90a722",
   "metadata": {},
   "outputs": [
    {
     "name": "stdout",
     "output_type": "stream",
     "text": [
      "**************************************************\n",
      "Confusion Matrix =\n",
      "[[21145     1]\n",
      " [    2 21144]]\n",
      "sensitivity of the AdaBoostclassifier = 1.000000\n",
      "specificity of the AdaBoostclassifier = 1.000000\n",
      "Accuracy Score of AdaBoostclassifier = 0.999929\n",
      "ROC AUC score of AdaBoostclassifier = 0.999929\n",
      "Report=\n",
      "              precision    recall  f1-score   support\n",
      "\n",
      "           0       1.00      1.00      1.00     21146\n",
      "           1       1.00      1.00      1.00     21146\n",
      "\n",
      "    accuracy                           1.00     42292\n",
      "   macro avg       1.00      1.00      1.00     42292\n",
      "weighted avg       1.00      1.00      1.00     42292\n",
      "\n",
      "**************************************************\n"
     ]
    }
   ],
   "source": [
    "## AdaBoost\n",
    "from sklearn.ensemble import RandomForestClassifier,GradientBoostingClassifier\n",
    "xgba = GradientBoostingClassifier()\n",
    "xgba.fit(x_train_sm,y_train_sm)\n",
    "y_pred_xgb = xgba.predict(x_train_sm)\n",
    "peformance = model_metrics(y_train_sm,y_pred_rf,'AdaBoostclassifier',peformance)"
   ]
  },
  {
   "cell_type": "code",
   "execution_count": 50,
   "id": "5c2fd48b-b64f-4307-878f-374ea455d3a5",
   "metadata": {},
   "outputs": [
    {
     "name": "stderr",
     "output_type": "stream",
     "text": [
      "/opt/conda/lib/python3.8/site-packages/xgboost/sklearn.py:1224: UserWarning: The use of label encoder in XGBClassifier is deprecated and will be removed in a future release. To remove this warning, do the following: 1) Pass option use_label_encoder=False when constructing XGBClassifier object; and 2) Encode your labels (y) as integers starting with 0, i.e. 0, 1, 2, ..., [num_class - 1].\n",
      "  warnings.warn(label_encoder_deprecation_msg, UserWarning)\n"
     ]
    },
    {
     "name": "stdout",
     "output_type": "stream",
     "text": [
      "[08:33:56] WARNING: ../src/learner.cc:1115: Starting in XGBoost 1.3.0, the default evaluation metric used with the objective 'binary:logistic' was changed from 'error' to 'logloss'. Explicitly set eval_metric if you'd like to restore the old behavior.\n",
      "**************************************************\n",
      "Confusion Matrix =\n",
      "[[20894   252]\n",
      " [   95 21051]]\n",
      "sensitivity of the XGBClassifier = 1.000000\n",
      "specificity of the XGBClassifier = 0.990000\n",
      "Accuracy Score of XGBClassifier = 0.991795\n",
      "ROC AUC score of XGBClassifier = 0.991795\n",
      "Report=\n",
      "              precision    recall  f1-score   support\n",
      "\n",
      "           0       1.00      0.99      0.99     21146\n",
      "           1       0.99      1.00      0.99     21146\n",
      "\n",
      "    accuracy                           0.99     42292\n",
      "   macro avg       0.99      0.99      0.99     42292\n",
      "weighted avg       0.99      0.99      0.99     42292\n",
      "\n",
      "**************************************************\n"
     ]
    }
   ],
   "source": [
    "import xgboost as xgb\n",
    "#4.XGBoostClassifier\n",
    "xgb_classifier = xgb.XGBClassifier()\n",
    "xgb_classifier.fit(x_train_sm,y_train_sm)\n",
    "y_pred_xgbc = xgb_classifier.predict(x_train_sm)\n",
    "peformance = model_metrics(y_train_sm,y_pred_xgbc,'XGBClassifier',peformance)"
   ]
  },
  {
   "cell_type": "code",
   "execution_count": 51,
   "id": "7205e4d6-347a-4f0a-a6a4-3f7e9498102c",
   "metadata": {},
   "outputs": [
    {
     "data": {
      "text/html": [
       "<div>\n",
       "<style scoped>\n",
       "    .dataframe tbody tr th:only-of-type {\n",
       "        vertical-align: middle;\n",
       "    }\n",
       "\n",
       "    .dataframe tbody tr th {\n",
       "        vertical-align: top;\n",
       "    }\n",
       "\n",
       "    .dataframe thead th {\n",
       "        text-align: right;\n",
       "    }\n",
       "</style>\n",
       "<table border=\"1\" class=\"dataframe\">\n",
       "  <thead>\n",
       "    <tr style=\"text-align: right;\">\n",
       "      <th></th>\n",
       "      <th>Model_name</th>\n",
       "      <th>Accuracy</th>\n",
       "      <th>Roc_auc_score</th>\n",
       "      <th>Precision</th>\n",
       "      <th>F1_score</th>\n",
       "    </tr>\n",
       "  </thead>\n",
       "  <tbody>\n",
       "    <tr>\n",
       "      <th>0</th>\n",
       "      <td>Logistic Regression</td>\n",
       "      <td>0.979854</td>\n",
       "      <td>0.979854</td>\n",
       "      <td>0.986807</td>\n",
       "      <td>0.979709</td>\n",
       "    </tr>\n",
       "    <tr>\n",
       "      <th>1</th>\n",
       "      <td>RandomForestClassifier</td>\n",
       "      <td>0.999929</td>\n",
       "      <td>0.999929</td>\n",
       "      <td>0.999953</td>\n",
       "      <td>0.999929</td>\n",
       "    </tr>\n",
       "    <tr>\n",
       "      <th>2</th>\n",
       "      <td>AdaBoostclassifier</td>\n",
       "      <td>0.999929</td>\n",
       "      <td>0.999929</td>\n",
       "      <td>0.999953</td>\n",
       "      <td>0.999929</td>\n",
       "    </tr>\n",
       "    <tr>\n",
       "      <th>3</th>\n",
       "      <td>XGBClassifier</td>\n",
       "      <td>0.991795</td>\n",
       "      <td>0.991795</td>\n",
       "      <td>0.988171</td>\n",
       "      <td>0.991825</td>\n",
       "    </tr>\n",
       "  </tbody>\n",
       "</table>\n",
       "</div>"
      ],
      "text/plain": [
       "               Model_name  Accuracy  Roc_auc_score  Precision  F1_score\n",
       "0     Logistic Regression  0.979854       0.979854   0.986807  0.979709\n",
       "1  RandomForestClassifier  0.999929       0.999929   0.999953  0.999929\n",
       "2      AdaBoostclassifier  0.999929       0.999929   0.999953  0.999929\n",
       "3           XGBClassifier  0.991795       0.991795   0.988171  0.991825"
      ]
     },
     "execution_count": 51,
     "metadata": {},
     "output_type": "execute_result"
    }
   ],
   "source": [
    "metrics_df = pd.DataFrame(performance)\n",
    "metrics_df"
   ]
  },
  {
   "cell_type": "code",
   "execution_count": 52,
   "id": "015d1c1a-d077-4f1a-9bd0-785b8fb7204c",
   "metadata": {},
   "outputs": [],
   "source": [
    "#Hyperparameter Tuning of models"
   ]
  },
  {
   "cell_type": "code",
   "execution_count": 53,
   "id": "60a8e639-ec18-4872-a5bd-853a67d11ea5",
   "metadata": {},
   "outputs": [],
   "source": [
    "n_estimators = [200,400,600]\n",
    "max_depth = [6,10,15]\n",
    "min_samples_leaf = [5,6,8]\n",
    "criterion  = ['gini','entropy']\n",
    "params = {'n_estimators':n_estimators,\n",
    "          'max_depth':max_depth,\n",
    "          'min_samples_leaf': min_samples_leaf,\n",
    "          'criterion':criterion}"
   ]
  },
  {
   "cell_type": "code",
   "execution_count": 54,
   "id": "03983685-7fb7-49cd-b616-7fcc0de17b14",
   "metadata": {},
   "outputs": [],
   "source": [
    "from sklearn.model_selection import train_test_split,GridSearchCV,RandomizedSearchCV\n",
    "grid_cv = GridSearchCV(estimator=rf,\n",
    "                       param_grid=params,\n",
    "                       n_jobs = -1,\n",
    "                       scoring = 'roc_auc',\n",
    "                       verbose = 1)"
   ]
  },
  {
   "cell_type": "code",
   "execution_count": 55,
   "id": "4dfdbb4e-e218-4c17-ad7b-14a8a6c07d14",
   "metadata": {},
   "outputs": [
    {
     "name": "stdout",
     "output_type": "stream",
     "text": [
      "Fitting 5 folds for each of 54 candidates, totalling 270 fits\n"
     ]
    },
    {
     "name": "stderr",
     "output_type": "stream",
     "text": [
      "[Parallel(n_jobs=-1)]: Using backend LokyBackend with 7 concurrent workers.\n",
      "[Parallel(n_jobs=-1)]: Done  36 tasks      | elapsed:  1.0min\n",
      "[Parallel(n_jobs=-1)]: Done 186 tasks      | elapsed:  7.1min\n",
      "[Parallel(n_jobs=-1)]: Done 270 out of 270 | elapsed: 11.5min finished\n"
     ]
    },
    {
     "data": {
      "text/plain": [
       "GridSearchCV(estimator=RandomForestClassifier(), n_jobs=-1,\n",
       "             param_grid={'criterion': ['gini', 'entropy'],\n",
       "                         'max_depth': [6, 10, 15],\n",
       "                         'min_samples_leaf': [5, 6, 8],\n",
       "                         'n_estimators': [200, 400, 600]},\n",
       "             scoring='roc_auc', verbose=1)"
      ]
     },
     "execution_count": 55,
     "metadata": {},
     "output_type": "execute_result"
    }
   ],
   "source": [
    "grid_cv.fit(x_train_sm,y_train_sm)"
   ]
  },
  {
   "cell_type": "code",
   "execution_count": 56,
   "id": "6e62dec8-d36e-46c5-9817-d76e04b8887b",
   "metadata": {},
   "outputs": [
    {
     "data": {
      "text/plain": [
       "RandomForestClassifier(max_depth=15, min_samples_leaf=5, n_estimators=400)"
      ]
     },
     "execution_count": 56,
     "metadata": {},
     "output_type": "execute_result"
    }
   ],
   "source": [
    "rf_final=grid_cv.best_estimator_\n",
    "rf_final"
   ]
  },
  {
   "cell_type": "code",
   "execution_count": 57,
   "id": "02017d9e-aadc-4500-bd3d-633181075c3f",
   "metadata": {},
   "outputs": [],
   "source": [
    "pickle.dump(rf_final,open('RandomForest_classifier.pkl','wb'))"
   ]
  },
  {
   "cell_type": "code",
   "execution_count": 58,
   "id": "1adc34a4-28af-4f0b-99e0-f6093acb10de",
   "metadata": {},
   "outputs": [
    {
     "data": {
      "text/plain": [
       "0.9806896079367888"
      ]
     },
     "execution_count": 58,
     "metadata": {},
     "output_type": "execute_result"
    }
   ],
   "source": [
    "grid_cv.best_score_"
   ]
  },
  {
   "cell_type": "code",
   "execution_count": 59,
   "id": "8d156121-7235-41e9-8e06-aadc68d4596a",
   "metadata": {},
   "outputs": [
    {
     "name": "stdout",
     "output_type": "stream",
     "text": [
      "**************************************************\n",
      "Confusion Matrix =\n",
      "[[18094  3052]\n",
      " [  603 20543]]\n",
      "sensitivity of the RandomForestClassifier with hyperparmater = 0.970000\n",
      "specificity of the RandomForestClassifier with hyperparmater = 0.860000\n",
      "Accuracy Score of RandomForestClassifier with hyperparmater = 0.913577\n",
      "ROC AUC score of RandomForestClassifier with hyperparmater = 0.913577\n",
      "Report=\n",
      "              precision    recall  f1-score   support\n",
      "\n",
      "           0       0.97      0.86      0.91     21146\n",
      "           1       0.87      0.97      0.92     21146\n",
      "\n",
      "    accuracy                           0.91     42292\n",
      "   macro avg       0.92      0.91      0.91     42292\n",
      "weighted avg       0.92      0.91      0.91     42292\n",
      "\n",
      "**************************************************\n"
     ]
    }
   ],
   "source": [
    "y_pred_rfgcv = rf_final.predict(x_train_sm)\n",
    "performance = model_metrics(y_train_sm,y_pred_rfgcv,'RandomForestClassifier with hyperparmater',performance)"
   ]
  },
  {
   "cell_type": "code",
   "execution_count": 60,
   "id": "79cfd95e-62b9-496b-9401-1378db48ce82",
   "metadata": {},
   "outputs": [],
   "source": [
    "n_estimators = [200,400,600]\n",
    "params_1 = {'n_estimators':n_estimators}"
   ]
  },
  {
   "cell_type": "code",
   "execution_count": 61,
   "id": "eb86c10f-c95a-4db0-b3b2-4bd5f4d195e1",
   "metadata": {},
   "outputs": [],
   "source": [
    "grid_cv_boost = GridSearchCV(estimator=xgba,\n",
    "                       param_grid=params_1,\n",
    "                       n_jobs = -1,\n",
    "                       scoring = 'roc_auc',\n",
    "                       verbose = 1)"
   ]
  },
  {
   "cell_type": "code",
   "execution_count": 62,
   "id": "d584aa8d-c888-4439-9cf1-92fb5b22e7cb",
   "metadata": {},
   "outputs": [
    {
     "name": "stdout",
     "output_type": "stream",
     "text": [
      "Fitting 5 folds for each of 3 candidates, totalling 15 fits\n"
     ]
    },
    {
     "name": "stderr",
     "output_type": "stream",
     "text": [
      "[Parallel(n_jobs=-1)]: Using backend LokyBackend with 7 concurrent workers.\n",
      "[Parallel(n_jobs=-1)]: Done  15 out of  15 | elapsed: 10.6min finished\n"
     ]
    },
    {
     "name": "stdout",
     "output_type": "stream",
     "text": [
      "Best score for GradientBoosting= 0.9962971631718951\n"
     ]
    }
   ],
   "source": [
    "grid_cv_boost.fit(x_train_sm,y_train_sm)\n",
    "print('Best score for GradientBoosting=',grid_cv_boost.best_score_)"
   ]
  },
  {
   "cell_type": "code",
   "execution_count": 63,
   "id": "8f0ebeba-73c4-4f8d-83da-bade5f7310ee",
   "metadata": {},
   "outputs": [
    {
     "data": {
      "text/plain": [
       "GradientBoostingClassifier(n_estimators=600)"
      ]
     },
     "execution_count": 63,
     "metadata": {},
     "output_type": "execute_result"
    }
   ],
   "source": [
    "xgb_final=grid_cv_boost.best_estimator_\n",
    "xgb_final"
   ]
  },
  {
   "cell_type": "code",
   "execution_count": 64,
   "id": "4bc00037-3500-4a88-8bb1-45767dc08b73",
   "metadata": {},
   "outputs": [
    {
     "name": "stdout",
     "output_type": "stream",
     "text": [
      "**************************************************\n",
      "Confusion Matrix =\n",
      "[[20837   309]\n",
      " [  322 20824]]\n",
      "sensitivity of the GradientBoostClassifier with n = 600 = 0.980000\n",
      "specificity of the GradientBoostClassifier with n = 600 = 0.990000\n",
      "Accuracy Score of GradientBoostClassifier with n = 600 = 0.985080\n",
      "ROC AUC score of GradientBoostClassifier with n = 600 = 0.985080\n",
      "Report=\n",
      "              precision    recall  f1-score   support\n",
      "\n",
      "           0       0.98      0.99      0.99     21146\n",
      "           1       0.99      0.98      0.99     21146\n",
      "\n",
      "    accuracy                           0.99     42292\n",
      "   macro avg       0.99      0.99      0.99     42292\n",
      "weighted avg       0.99      0.99      0.99     42292\n",
      "\n",
      "**************************************************\n"
     ]
    }
   ],
   "source": [
    "y_pred_xgbgcv = xgb_final.predict(x_train_sm)\n",
    "peformance = model_metrics(y_train_sm,y_pred_xgbgcv,'GradientBoostClassifier with n = 600',peformance)"
   ]
  },
  {
   "cell_type": "code",
   "execution_count": 66,
   "id": "684b1f0d-2f93-4e5d-8d30-4fb20e9a7a01",
   "metadata": {},
   "outputs": [],
   "source": [
    "max_depth = [5,6,7,10]\n",
    "\n",
    "params_2 = {'max_depth':max_depth\n",
    "}\n",
    "grid_cv_boost2 = GridSearchCV(estimator=xgb_final,\n",
    "                       param_grid=params_2,\n",
    "                       n_jobs = -1,\n",
    "                       scoring = 'roc_auc',\n",
    "                       verbose = 1)"
   ]
  },
  {
   "cell_type": "code",
   "execution_count": 67,
   "id": "f935963c-5042-428a-8890-9e710a8efe03",
   "metadata": {},
   "outputs": [
    {
     "name": "stdout",
     "output_type": "stream",
     "text": [
      "Fitting 5 folds for each of 4 candidates, totalling 20 fits\n"
     ]
    },
    {
     "name": "stderr",
     "output_type": "stream",
     "text": [
      "[Parallel(n_jobs=-1)]: Using backend LokyBackend with 7 concurrent workers.\n",
      "[Parallel(n_jobs=-1)]: Done  20 out of  20 | elapsed: 33.1min finished\n"
     ]
    },
    {
     "name": "stdout",
     "output_type": "stream",
     "text": [
      "Best score for GradientBoosting= 0.9988486969648269\n"
     ]
    },
    {
     "data": {
      "text/plain": [
       "GradientBoostingClassifier(max_depth=10, n_estimators=600)"
      ]
     },
     "execution_count": 67,
     "metadata": {},
     "output_type": "execute_result"
    }
   ],
   "source": [
    "grid_cv_boost2.fit(x_train_sm,y_train_sm)\n",
    "print('Best score for GradientBoosting=',grid_cv_boost2.best_score_)\n",
    "grid_cv_boost2.best_estimator_best_estimator_"
   ]
  },
  {
   "cell_type": "code",
   "execution_count": null,
   "id": "a106ae39-9838-4e4f-b249-6b733ffd9830",
   "metadata": {},
   "outputs": [
    {
     "name": "stdout",
     "output_type": "stream",
     "text": [
      "Fitting 5 folds for each of 3 candidates, totalling 15 fits\n"
     ]
    },
    {
     "name": "stderr",
     "output_type": "stream",
     "text": [
      "[Parallel(n_jobs=-1)]: Using backend LokyBackend with 7 concurrent workers.\n"
     ]
    }
   ],
   "source": [
    "min_samples_split = [10,20,30]\n",
    "params_2 = {'min_samples_split': min_samples_split\n",
    "}\n",
    "grid_cv_boost3 = GridSearchCV(estimator=grid_cv_boost2.best_estimator_,\n",
    "                       param_grid=params_2,\n",
    "                       n_jobs = -1,\n",
    "                       scoring = 'roc_auc',\n",
    "                       verbose = 1)\n",
    "\n",
    "grid_cv_boost3.fit(x_train_sm,y_train_sm)\n",
    "print('Best score for GradientBoosting=',grid_cv_boost3.best_score_)\n",
    "grid_cv_boost3.best_estimator_"
   ]
  },
  {
   "cell_type": "code",
   "execution_count": null,
   "id": "6a3dea67-35d3-4635-9ce7-b0529b808ebd",
   "metadata": {},
   "outputs": [],
   "source": [
    "y_pred_xgbgcv2 = grid_cv_boost3.best_estimator_.predict(x_train_sm)\n",
    "peformance = model_metrics(y_train_sm,y_pred_xgbgcv2,'GradientBoostClassifier with param2',peformance)\n",
    "performance"
   ]
  },
  {
   "cell_type": "code",
   "execution_count": null,
   "id": "16441fbc-03cf-4501-8165-45032661daae",
   "metadata": {},
   "outputs": [],
   "source": [
    "rf_final = pickle.load(open('RandomForest_classifier.pkl','rb'))"
   ]
  },
  {
   "cell_type": "code",
   "execution_count": null,
   "id": "b3abf444-d924-4ff7-b5db-8404b3466a61",
   "metadata": {},
   "outputs": [],
   "source": [
    "# After doing multiple tuning we get the below model and will be used in the sentiment based analysis\n",
    "final_model = GradientBoostingClassifier(max_depth=10, min_samples_split=20, n_estimators=600)"
   ]
  },
  {
   "cell_type": "code",
   "execution_count": null,
   "id": "d55d861b-9153-4369-8144-deb23ff223eb",
   "metadata": {},
   "outputs": [],
   "source": [
    "final_model.fit(x_train_sm,y_train_sm)"
   ]
  },
  {
   "cell_type": "code",
   "execution_count": null,
   "id": "8acd509a-08fa-4be7-b2c0-ac45b81da7ce",
   "metadata": {},
   "outputs": [],
   "source": [
    "pickle.dump(final_model,open('final_model.pkl','wb'))"
   ]
  },
  {
   "cell_type": "code",
   "execution_count": null,
   "id": "14b1d1ad-b238-42e0-bc42-b02444554ffd",
   "metadata": {},
   "outputs": [],
   "source": [
    "#Evaluatopn between lr , rf and boost \n",
    "test_performance=[]\n",
    "test_word_vect = count_vect.transform(x_test)\n",
    "test_tfidf_vect = tfidf_transformer.transform(test_word_vect)\n",
    "\n",
    "y_test_pred_lr = lr.predict(test_tfidf_vect)\n",
    "test_peformance = model_metrics(y_test,y_test_pred_lr,'Logistic Regression',test_performance)\n",
    "\n",
    "y_test_pred_xgbc = xgb_classifier.predict(test_tfidf_vect)\n",
    "test_peformance = model_metrics(y_test,y_test_pred_xgbc,'XGBoost Classifier',test_performance)\n",
    "\n",
    "y_test_pred_rf = rf_final.predict(test_tfidf_vect)\n",
    "test_peformance = model_metrics(y_test,y_test_pred_rf,'Tuned RandomForestClassifier',test_performance)\n",
    "\n",
    "y_test_pred_xgb = final_model.predict(test_tfidf_vect)\n",
    "test_peformance = model_metrics(y_test,y_test_pred_xgb,'Tuned GradientBoostClassifier',test_performance)\n",
    "\n",
    "test_metrics_df = pd.DataFrame(test_performance)\n",
    "test_metrics_df"
   ]
  },
  {
   "cell_type": "code",
   "execution_count": null,
   "id": "c106fb75-18bd-4476-9a37-c44c45635286",
   "metadata": {},
   "outputs": [],
   "source": [
    "pickle.dump(lr,open(mydrive_path+'model.pkl','wb'))"
   ]
  },
  {
   "cell_type": "code",
   "execution_count": null,
   "id": "05b679a0-f1f0-4078-91b3-33e6e40cba2f",
   "metadata": {},
   "outputs": [],
   "source": [
    "# Recommedation system\n",
    "## User and User recommedation system\n",
    "## Item and Item recommedation system"
   ]
  },
  {
   "cell_type": "code",
   "execution_count": null,
   "id": "d81bddde-0398-4cad-b3fc-483eb01086dd",
   "metadata": {},
   "outputs": [],
   "source": []
  }
 ],
 "metadata": {
  "kernelspec": {
   "display_name": "Python 3 (ipykernel)",
   "language": "python",
   "name": "python3"
  },
  "language_info": {
   "codemirror_mode": {
    "name": "ipython",
    "version": 3
   },
   "file_extension": ".py",
   "mimetype": "text/x-python",
   "name": "python",
   "nbconvert_exporter": "python",
   "pygments_lexer": "ipython3",
   "version": "3.8.12"
  }
 },
 "nbformat": 4,
 "nbformat_minor": 5
}
